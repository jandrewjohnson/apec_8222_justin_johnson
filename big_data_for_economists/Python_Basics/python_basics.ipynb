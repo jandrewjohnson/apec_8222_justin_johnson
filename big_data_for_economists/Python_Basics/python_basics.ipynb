{
  "cells": [
    {
      "cell_type": "markdown",
      "metadata": {},
      "source": [
        "## Topics to be covered\n",
        "\n",
        "-   **Basic Rules/Syntax of Python** (Don't worry about memorizing these, just be aware of them. We will see them again, again and again.)\n",
        "    -   Indentation\n",
        "    -   Pythonic Code\n",
        "    -   Rules of Functions\\\n",
        "    -   Comments and Docstrings\n",
        "    -   Error Handling\n",
        "    -   Importing Packages\n",
        "-   **Variables, Data Types and Operators**\n",
        "    -   Naming Conventions\n",
        "    -   Basic Data Types\n",
        "-   **Data Structures:**\n",
        "    -   `Lists`, `tuples`, `sets`, and `dictionaries`.\n",
        "    -   Basic operations and methods associated with these data structures.\n",
        "    -   Understanding mutability and immutability.\n",
        "-   **Control Flows**\n",
        "    -   Conditionals (`if`, `elif`, `else`).\n",
        "    -   Loops (`for`, `while`).\n",
        "    -   Loop control statements (`break`, `continue`).\n",
        "-   **Functions**:\n",
        "    -   Defining and calling functions.\n",
        "    -   Arguments and return values.\n",
        "-   **File Handling:**\n",
        "    -   Reading from and writing to files.\n",
        "    -   Working with paths and directories.\n",
        "-   Other Python Types\n",
        "\n",
        "# **Basic Rules/Syntax of Python**\n",
        "\n",
        "# Python is not a \"statically typed\" language"
      ]
    },
    {
      "cell_type": "code",
      "execution_count": null,
      "metadata": {},
      "outputs": [],
      "source": [
        "# Comments: The hashtag makes the rest of the line a comment. The more programming you do, the more you focus on making good comments.\n",
        "# Jupyter lets you write formatted text, but you'll still want to put comments in the raw python.\n",
        "\n",
        "# Assign some numbers to variables\n",
        "a = 5  # Here, we implicitly told python that a is an integer\n",
        "b = 4.65  # Here, we told python that b is a floating point number (a decimal)\n"
      ]
    },
    {
      "cell_type": "markdown",
      "metadata": {},
      "source": [
        "-   Even though nothing is outputted above, our Python \"Kernel\" has the values to each variable stored for later use.\n",
        "\n",
        "-   Notice that, we can add an integer and the float (a floating point number, i.e., one with a decimal point). Python \"smartly\" redefines variables so that they work together.\n",
        "\n",
        "-   This is different from other languages which require you to manually manage the \"types\" of your variables."
      ]
    },
    {
      "cell_type": "code",
      "execution_count": null,
      "metadata": {},
      "outputs": [],
      "source": [
        "# Python as a calculator. \n",
        "sum_of_two_numbers = a + b\n",
        "\n",
        "# Printing output to the console\n",
        "print('Our output was', sum_of_two_numbers)"
      ]
    },
    {
      "cell_type": "code",
      "execution_count": null,
      "metadata": {},
      "outputs": [],
      "source": [
        "sum_as_int = int(sum_of_two_numbers)\n",
        "sum_as_int_back_to_float = float(sum_as_int)\n",
        "\n",
        "print('We lost some precision in this operation:', sum_as_int_back_to_float)"
      ]
    },
    {
      "cell_type": "markdown",
      "metadata": {},
      "source": [
        "# Indentation\n",
        "\n",
        "Indentation is crucial in Python as it indicates a block of code. Each level of indentation should be exactly 4 spaces.\n",
        "\n",
        "We also see the `for` and `range` concepts here, which we will learn below."
      ]
    },
    {
      "cell_type": "code",
      "execution_count": null,
      "metadata": {},
      "outputs": [],
      "source": [
        "# Example:\n",
        "for i in range(5):\n",
        "    print(i)  # 4 spaces for indentation\n",
        "    if i == 3:\n",
        "        break  # 4 spaces for indentation"
      ]
    },
    {
      "cell_type": "markdown",
      "metadata": {},
      "source": [
        "# Importing Packages\n",
        "\n",
        "You can import packages on single lines or as a comma-separated list"
      ]
    },
    {
      "cell_type": "code",
      "execution_count": null,
      "metadata": {},
      "outputs": [],
      "source": [
        "# Built-in packages via the Python Standard Library\n",
        "import math\n",
        "import os, sys, time, random\n",
        "\n",
        "# Using imported modules\n",
        "number_rounded_down = math.floor(sum_of_two_numbers)\n",
        "print(number_rounded_down)"
      ]
    },
    {
      "cell_type": "markdown",
      "metadata": {},
      "source": [
        "# Using packages from elsewhere\n",
        "\n",
        "When we used the `mamba` command, we installed a ton of packages. These were not \"built-in\" to python like the ones above. Here we will import them into our notebook to use.\n",
        "\n",
        "This will also illustrate the use of numpy. We'll use it so much we us the `as` code to name it something shorter."
      ]
    },
    {
      "cell_type": "code",
      "execution_count": null,
      "metadata": {},
      "outputs": [],
      "source": [
        "import numpy as np # This is a short name for numpy. We'll use it a lot.\n",
        "\n",
        "# Create an 2 by 3 array of integers\n",
        "small_array = np.array([[5, 3, 5], [6, 6, 5]])\n",
        "\n",
        "print('Here\\'s a small numpy array\\n', small_array)\n",
        "\n",
        "# Sidenote: from above backspace \\ put in front of a character is the\n",
        "# \"escape character,\" which makes python interpret the next thing as a string or special text operator. \\n makes a line break"
      ]
    },
    {
      "cell_type": "markdown",
      "metadata": {},
      "source": [
        "# **Variables, Data Types and Operators**\n",
        "\n",
        "# Python Naming Conventions\n",
        "\n",
        "Adhering to a naming convention is crucial for readability and maintainability of the code. In Python, the following naming conventions are widely used:\n",
        "\n",
        "-   **Variables and Functions**: Use `snake_case` where all letters are lowercase with underscores between words."
      ]
    },
    {
      "cell_type": "code",
      "execution_count": null,
      "metadata": {},
      "outputs": [],
      "source": [
        "# Example:\n",
        "variable_name = \"hello world\"\n",
        "def function_name(parameter_one, parameter_two):\n",
        "    pass"
      ]
    },
    {
      "cell_type": "markdown",
      "metadata": {},
      "source": [
        "-   **Constants**: Use `UPPER_SNAKE_CASE` where all letters are uppercase with underscores between words."
      ]
    },
    {
      "cell_type": "code",
      "execution_count": null,
      "metadata": {},
      "outputs": [],
      "source": [
        "# Example:\n",
        "PI = 3.14159\n",
        "MAX_SIZE = 100"
      ]
    },
    {
      "cell_type": "markdown",
      "metadata": {},
      "source": [
        "-   **Classes**: Use `PascalCase` where the first letter of each word is uppercase with no underscores between words."
      ]
    },
    {
      "cell_type": "code",
      "execution_count": null,
      "metadata": {},
      "outputs": [],
      "source": [
        "# Example:\n",
        "class ClassName:\n",
        "    pass"
      ]
    },
    {
      "cell_type": "markdown",
      "metadata": {},
      "source": [
        "# Understanding Variables and Data Types in Python\n",
        "\n",
        "Here is a table to guide you through the different data types in Python, since most of you are coming from R.\n",
        "\n",
        "| Description            | R Data Type       | Python Data Type | Python Example             |\n",
        "|--------------------|------------------|------------------|------------------|\n",
        "| Integer Numbers        | integer           | int              | `x = 5`                    |\n",
        "| Floating-Point Numbers | numeric or double | float            | `y = 5.0`                  |\n",
        "| Character Strings      | character         | str              | `z = \"hello\"`              |\n",
        "| Boolean Values         | logical           | bool             | `a = True`                 |\n",
        "| Complex Numbers        | complex           | complex          | `b = 3 + 4j`               |\n",
        "| Vectors (1D array)     | vector            | list             | `c = [1, 2, 3]`            |\n",
        "| Named Vectors          | named vector      | dict             | `d = {\"one\": 1, \"two\": 2}` |\n",
        "\n",
        "Variables are containers for storing data values. Unlike R, Python does not require declaring the variable type, it gets converted automatically based on the value it holds."
      ]
    },
    {
      "cell_type": "code",
      "execution_count": null,
      "metadata": {},
      "outputs": [],
      "source": [
        "# Assigning a value to a variable\n",
        "x = 10  # x is now an integer variable with a value of 10"
      ]
    },
    {
      "cell_type": "markdown",
      "metadata": {},
      "source": [
        "# Data Types in Python\n",
        "\n",
        "Let's delve into the basic data types available in Python:\n",
        "\n",
        "## 1. Integer:\n",
        "\n",
        "Whole numbers without decimals."
      ]
    },
    {
      "cell_type": "code",
      "execution_count": null,
      "metadata": {},
      "outputs": [],
      "source": [
        "x = 5\n",
        "type(x)  # Output: <class 'int'>"
      ]
    },
    {
      "cell_type": "markdown",
      "metadata": {},
      "source": [
        "## 2. Float:\n",
        "\n",
        "Decimal numbers."
      ]
    },
    {
      "cell_type": "code",
      "execution_count": null,
      "metadata": {},
      "outputs": [],
      "source": [
        "y = 5.0\n",
        "type(y)  # Output: <class 'float'>"
      ]
    },
    {
      "cell_type": "markdown",
      "metadata": {},
      "source": [
        "## 3. String:\n",
        "\n",
        "Sequence of characters."
      ]
    },
    {
      "cell_type": "code",
      "execution_count": null,
      "metadata": {},
      "outputs": [],
      "source": [
        "# Assign some text (a string) to a variable\n",
        "\n",
        "some_text = 'This is the text.'\n",
        "type(some_text)  # Output: <class 'str'>"
      ]
    },
    {
      "cell_type": "code",
      "execution_count": null,
      "metadata": {},
      "outputs": [],
      "source": [
        "# Here is a multi line string: (also discusses improved capabilities of an IDE editor)\n",
        "\n",
        "things_you_can_do_in_vs_code_that_you_cant_do_without_an_ide = \"\"\"\n",
        "1.) Move back and forth in your history of cursor positions (using your mouse forward and back buttons)\n",
        "2.) Edit on multiple lines at the same time (hold alt and click new spots)\n",
        "3.) Smartly paste DIFFERENT values\n",
        "4.) Duplicate lines (alt-shift-downarrow) or just move them (alt-uparrow or alt-downarrow)\n",
        "5.) Introspection (e.g., jump between function definition and usages)\n",
        "6.) Debugging (Interactively walk through your code one line at a time. WE WILL LEARN THIS!)\n",
        "7.) Profiling your code (see which lines take the most time to compute.)\n",
        "\"\"\""
      ]
    },
    {
      "cell_type": "markdown",
      "metadata": {},
      "source": [
        "## 4. Boolean:\n",
        "\n",
        "True or False values."
      ]
    },
    {
      "cell_type": "code",
      "execution_count": null,
      "metadata": {},
      "outputs": [],
      "source": [
        "a = True\n",
        "type(a)  # Output: <class 'bool'>"
      ]
    },
    {
      "cell_type": "markdown",
      "metadata": {},
      "source": [
        "## 5. Complex:\n",
        "\n",
        "Numbers with real and imaginary parts."
      ]
    },
    {
      "cell_type": "code",
      "execution_count": null,
      "metadata": {},
      "outputs": [],
      "source": [
        "b = 3 + 4j\n",
        "type(b)  # Output: <class 'complex'>"
      ]
    },
    {
      "cell_type": "markdown",
      "metadata": {},
      "source": [
        "## 6. List:\n",
        "\n",
        "Ordered collection of items."
      ]
    },
    {
      "cell_type": "code",
      "execution_count": null,
      "metadata": {},
      "outputs": [],
      "source": [
        "c = [1, 2, 3]\n",
        "type(c)  # Output: <class 'list'>"
      ]
    },
    {
      "cell_type": "markdown",
      "metadata": {},
      "source": [
        "## 7. Dictionary:\n",
        "\n",
        "Unordered collection of items with key-value pairs."
      ]
    },
    {
      "cell_type": "code",
      "execution_count": null,
      "metadata": {},
      "outputs": [],
      "source": [
        "d = {\"one\": 1, \"two\": 2}\n",
        "type(d)  # Output: <class 'dict'>"
      ]
    },
    {
      "cell_type": "markdown",
      "metadata": {},
      "source": [
        "# In-Class Exercise 2.1\n",
        "\n",
        "1.  Create a variable `my_name` to store your name as a string, and a variable `my_age` to store your age as an integer. Print the type of both variables.\n",
        "2.  Create a list `my_info` containing your name, age, and a boolean value indicating whether you have any programming experience (True or False).\n",
        "3.  Create a dictionary `my_info_dict` with the same information as above, but with the keys `\"name\"`, `\"age\"`, and `\"has_programming_experience\"`. Print this out.\n"
      ]
    },
    {
      "cell_type": "code",
      "execution_count": null,
      "metadata": {},
      "outputs": [],
      "source": [
        "# Question 1:\n",
        "\n",
        "\n",
        "# Question 2:\n"
      ]
    },
    {
      "cell_type": "markdown",
      "metadata": {},
      "source": [
        ":::\n",
        "\n",
        "## Understanding Data Structures in Python\n",
        "\n",
        "Data structures are a way of organizing and storing data so that they can be accessed and worked with efficiently. Python has built-in data structures like lists, tuples, sets, and dictionaries.\n",
        "\n",
        "| Description                  | R Data Structure         | Python Data Structure | Python Example               |\n",
        "|------------------|------------------|------------------|--------------------|\n",
        "| Ordered collection           | List                     | List                  | `my_list = [1, 2, 3]`        |\n",
        "| Immutable ordered collection | NA                       | Tuple                 | `my_tuple = (1, 2, 3)`       |\n",
        "| Unordered collection         | Set                      | Set                   | `my_set = {1, 2, 3}`         |\n",
        "| Key-Value pairs              | Named list or data frame | Dictionary            | `my_dict = {'a': 1, 'b': 2}` |\n",
        "\n",
        "### Lists\n",
        "\n",
        "Lists are ordered collections of items which are mutable."
      ]
    },
    {
      "cell_type": "code",
      "execution_count": null,
      "metadata": {},
      "outputs": [],
      "source": [
        "my_list = [1, 2, 3, 4]\n",
        "my_list.append(5)  # Adds 5 to the end of the list\n",
        "print(my_list)  # Output: [1, 2, 3, 4, 5]"
      ]
    },
    {
      "cell_type": "markdown",
      "metadata": {},
      "source": [
        "Lists in Python are mutable, meaning that you can change their content after they are created."
      ]
    },
    {
      "cell_type": "code",
      "execution_count": null,
      "metadata": {},
      "outputs": [],
      "source": [
        "# Creating a list\n",
        "my_list = [1, 2, 3]\n",
        "print(my_list)  # Output: [1, 2, 3]\n",
        "\n",
        "# Modifying the list\n",
        "my_list[0] = 0\n",
        "print(my_list)  # Output: [0, 2, 3]"
      ]
    },
    {
      "cell_type": "markdown",
      "metadata": {},
      "source": [
        "A very useful way to generate a list is with the range() function. The syntax is range(start, stop, step). The start is the first number in the list, the stop is the last number in the list, and the step is the amount by which the list increases. If you don't specify a start, it will default to 0. If you don't specify a step, it will default to 1."
      ]
    },
    {
      "cell_type": "code",
      "execution_count": null,
      "metadata": {},
      "outputs": [],
      "source": [
        "# Create a list from 0 to 10. NOTICE that the stop number is NOT included.\n",
        "my_list = list(range(11))\n",
        "print(my_list)  # Output: [0, 1, 2, 3, 4, 5, 6, 7, 8, 9, 10]\n",
        "\n",
        "# Create a list of even numbers from 2 to 22\n",
        "my_list = list(range(2, 23, 2))\n",
        "print(my_list)  # Output: [2, 4, 6, 8, 10, 12, 14, 16, 18, 20, 22]\n"
      ]
    },
    {
      "cell_type": "markdown",
      "metadata": {},
      "source": [
        "### Tuples\n",
        "\n",
        "Tuples are similar to lists, but they are immutable."
      ]
    },
    {
      "cell_type": "code",
      "execution_count": null,
      "metadata": {},
      "outputs": [],
      "source": [
        "my_tuple = (1, 2, 3, 4)\n",
        "# my_tuple.append(5)  # This will raise an AttributeError as tuples are immutable"
      ]
    },
    {
      "cell_type": "markdown",
      "metadata": {},
      "source": [
        "### Sets\n",
        "\n",
        "Sets are unordered collections of unique elements."
      ]
    },
    {
      "cell_type": "code",
      "execution_count": null,
      "metadata": {},
      "outputs": [],
      "source": [
        "my_set = {1, 2, 3, 3}\n",
        "print(my_set)  # Output: {1, 2, 3} as sets only allow unique values"
      ]
    },
    {
      "cell_type": "markdown",
      "metadata": {},
      "source": [
        "### Dictionaries\n",
        "\n",
        "Dictionaries are unordered collections of key-value pairs."
      ]
    },
    {
      "cell_type": "code",
      "execution_count": null,
      "metadata": {},
      "outputs": [],
      "source": [
        "my_dict = {'a': 1, 'b': 2}\n",
        "print(my_dict['a'])  # Output: 1"
      ]
    },
    {
      "cell_type": "markdown",
      "metadata": {},
      "source": [
        "Dictionaries are also mutable, allowing you to change, add, or remove key-value pairs after the dictionary is defined."
      ]
    },
    {
      "cell_type": "code",
      "execution_count": null,
      "metadata": {},
      "outputs": [],
      "source": [
        "# Creating a dictionary\n",
        "my_dict = {'a': 1, 'b': 2}\n",
        "print(my_dict)  # Output: {'a': 1, 'b': 2}\n",
        "\n",
        "# Modifying the dictionary\n",
        "my_dict['a'] = 0\n",
        "print(my_dict)  # Output: {'a': 0, 'b': 2}\n",
        "\n",
        "\n",
        "# Dictionaries\n",
        "dictionary_1 = {23: \"Favorite number\", 24: \"Second favorite number\"}\n",
        "print('dictionary_1', dictionary_1)"
      ]
    },
    {
      "cell_type": "markdown",
      "metadata": {},
      "source": [
        "------------------------------------------------------------------------\n",
        "\n",
        "# Operators in Python\n",
        "\n",
        "Let's start with a comparative table between Python and R for basic operators:\n",
        "\n",
        "``` markdown\n",
        "| Description         | R Operator | Python Operator | Python Example |\n",
        "|---------------------|------------|-----------------|----------------|\n",
        "| Addition            | `+`        | `+`             | `x = 5 + 3`    |\n",
        "| Subtraction         | `-`        | `-`             | `x = 5 - 3`    |\n",
        "| Multiplication      | `*`        | `*`             | `x = 5 * 3`    |\n",
        "| Division            | `/`        | `/`             | `x = 5 / 3`    |\n",
        "| Integer Division    | `%/%`      | `//`            | `x = 5 // 3`   |\n",
        "| Modulus             | `%%`       | `%`             | `x = 5 % 3`    |\n",
        "| Exponentiation      | `^` or `**`| `**`            | `x = 5 ** 3`   |\n",
        "| Less than           | `<`        | `<`             | `x < y`        |\n",
        "| Greater than        | `>`        | `>`             | `x > y`        |\n",
        "| Less than or equal to| `<=`      | `<=`            | `x <= y`       |\n",
        "| Greater than or equal to| `>=`   | `>=`            | `x >= y`       |\n",
        "| Equal to            | `==`       | `==`            | `x == y`       |\n",
        "| Not equal to        | `!=`       | `!=`            | `x != y`       |\n",
        "| And                 | `&`        | `and`           | `x < 5 and x < 10` |\n",
        "| Or                  | `\\|`       | `or`            | `x < 5 or x < 4`  |\n",
        "| Not                 | `!`        | `not`           | `not(x < 5 and x < 10)` |\n",
        "```\n",
        "\n",
        "# Understanding Operators in Python\n",
        "\n",
        "Operators are special symbols in Python that carry out arithmetic or logical computation. The value that the operator operates on is called the operand.\n",
        "\n",
        "## Arithmetic Operators\n",
        "\n",
        "Arithmetic operators do exactly what you think. One that needs to be noted is the exponentiation operator, which is `**` in Python."
      ]
    },
    {
      "cell_type": "code",
      "execution_count": null,
      "metadata": {},
      "outputs": [],
      "source": [
        "x = 15\n",
        "y = 4\n",
        "\n",
        "# Addition\n",
        "print('x + y =', x + y)  # Output: x + y = 19\n",
        "\n",
        "# Subtraction\n",
        "print('x - y =', x - y)  # Output: x - y = 11\n",
        "\n",
        "# Multiplication\n",
        "print('x * y =', x * y)  # Output: x * y = 60\n",
        "\n",
        "# Division\n",
        "print('x / y =', x / y)  # Output: x / y = 3.75\n",
        "\n",
        "# Exponentiation\n",
        "print('x ** y =', x ** y)  # Output: x ** y = 50625\n",
        "\n",
        "# Modulus/Modulo/Remainder\n",
        "print('x % y =', x % y)  # Output: x % y = 3    "
      ]
    },
    {
      "cell_type": "markdown",
      "metadata": {},
      "source": [
        "## Comparison Operators\n",
        "\n",
        "Comparison operators are used to compare values. It either returns True or False according to the condition."
      ]
    },
    {
      "cell_type": "code",
      "execution_count": null,
      "metadata": {},
      "outputs": [],
      "source": [
        "x = 10\n",
        "y = 12\n",
        "\n",
        "# Greater than\n",
        "print('x > y is', x > y)  # Output: x > y is False\n",
        "\n",
        "# Less than\n",
        "print('x < y is', x < y)  # Output: x < y is True\n",
        "\n",
        "# Equal to\n",
        "print('x == y is', x == y)  # Output: x == y is False"
      ]
    },
    {
      "cell_type": "markdown",
      "metadata": {},
      "source": [
        "## Logical Operators\n",
        "\n",
        "Logical operators are used to combine conditional statements."
      ]
    },
    {
      "cell_type": "code",
      "execution_count": null,
      "metadata": {},
      "outputs": [],
      "source": [
        "x = True\n",
        "y = False\n",
        "\n",
        "# and operator\n",
        "print('x and y is', x and y)  # Output: x and y is False\n",
        "\n",
        "# or operator\n",
        "print('x or y is', x or y)  # Output: x or y is True\n",
        "\n",
        "# not operator\n",
        "print('not x is', not x)  # Output: not x is False"
      ]
    },
    {
      "cell_type": "markdown",
      "metadata": {},
      "source": [
        "------------------------------------------------------------------------\n",
        "\n",
        "# Control Flow in Python\n",
        "\n",
        "Control flow in a program refers to the order in which the program's code executes. The control flow in Python is regulated by conditional statements, loops, and function calls. This section covers the basics of control flow in Python including conditionals, loops, and loop control statements.\n",
        "\n",
        "## Conditionals (`if`, `elif`, `else`)\n",
        "\n",
        "Conditional statements in Python are used to execute different code based on certain conditions."
      ]
    },
    {
      "cell_type": "code",
      "execution_count": null,
      "metadata": {},
      "outputs": [],
      "source": [
        "x = 20\n",
        "y = 15\n",
        "\n",
        "if x > y:\n",
        "    print(\"x is greater than y\")\n",
        "elif x < y:\n",
        "    print(\"x is less than y\")\n",
        "else:\n",
        "    print(\"x is equal to y\")"
      ]
    },
    {
      "cell_type": "markdown",
      "metadata": {},
      "source": [
        "# Loops (`for`, `while`)\n",
        "\n",
        "Loops in Python are used to execute a block of code repeatedly.\n",
        "\n",
        "## For Loop:"
      ]
    },
    {
      "cell_type": "code",
      "execution_count": null,
      "metadata": {},
      "outputs": [],
      "source": [
        "for i in range(5):\n",
        "    print(i)  # Output: 0 1 2 3 4"
      ]
    },
    {
      "cell_type": "markdown",
      "metadata": {},
      "source": [
        "## While Loop:"
      ]
    },
    {
      "cell_type": "code",
      "execution_count": null,
      "metadata": {},
      "outputs": [],
      "source": [
        "i = 0\n",
        "while i < 5:\n",
        "    print(i)  # Output: 0 1 2 3 4\n",
        "    i += 1"
      ]
    },
    {
      "cell_type": "markdown",
      "metadata": {},
      "source": [
        "## Complex Looping:"
      ]
    },
    {
      "cell_type": "code",
      "execution_count": null,
      "metadata": {},
      "outputs": [],
      "source": [
        "small_range = range(0, 10)\n",
        "print('small_range:', small_range)\n",
        "\n",
        "small_range_as_list = list(range(0, 10))\n",
        "print('small_range_as_list:', small_range_as_list)\n",
        "\n",
        "# Here is a for loop. Also note that python EXPLICITLY USES TAB-LEVEL to denote nested things.\n",
        "# I.e., the inner part of the loop is tabbed 1 level up. Python does not use { like  R.\n",
        "# I LOVE this notation and it's a big part of why python is so pretty and readable.\n",
        "sum = 0 # Set the initial variable values\n",
        "num = 0\n",
        "sum_with_some = 0\n",
        "for i in range(100, 136, 3):\n",
        "    sum = sum + i\n",
        "    num = num + 1\n",
        "\n",
        "    # loop within a loop\n",
        "    for j in range(200, 205):\n",
        "        sum_with_some = sum + j\n",
        "\n",
        "mean = sum / num\n",
        "print('mean', mean)"
      ]
    },
    {
      "cell_type": "markdown",
      "metadata": {},
      "source": [
        "# Loop Control Statements (`break`)\n",
        "\n",
        "Loop control statements change the execution of the loop from its normal sequence.\n",
        "\n",
        "#### Break:"
      ]
    },
    {
      "cell_type": "code",
      "execution_count": null,
      "metadata": {},
      "outputs": [],
      "source": [
        "for i in range(5):\n",
        "    if i == 3:\n",
        "        break\n",
        "    print(i)  # Output: 0 1 2"
      ]
    },
    {
      "cell_type": "markdown",
      "metadata": {},
      "source": [
        "### In-Class Exercise\n",
        "\n",
        "\n",
        "1.  **Simple Exercise 1**: Write a Python program to find and print the largest among three numbers. Hint: Use if/ellif/else statements.\n",
        "\n",
        "2.  **Simple Exercise 2**: Write a Python program to check whether a given year is a leap year or not. The rule is that a year is a leap year if it is divisible by 4 but not by 100, unless it is divisible by 400. You may want to use the modulo operator (%)\n",
        "\n",
        "3.  **Challenging Exercise**: Create a Python program to find all prime numbers within a given range. (Hint: A prime number is a natural number greater than 1 that has no positive divisors other than 1 and itself). Again, you can use % to see if there is a non-zero remainder.\n"
      ]
    },
    {
      "cell_type": "code",
      "execution_count": null,
      "metadata": {},
      "outputs": [],
      "source": [
        "# Simple Exercise 1:\n"
      ]
    },
    {
      "cell_type": "markdown",
      "metadata": {},
      "source": [
        ":::\n",
        "\n",
        "## Understanding Functions in Python\n",
        "\n",
        "Functions are blocks of code that are designed to do one specific job. In Python, a function is defined using the `def` keyword. Functions can receive inputs and return outputs.\n",
        "\n",
        "### Defining and Calling Functions\n",
        "\n",
        "Here's how you can define a simple function and call it:"
      ]
    },
    {
      "cell_type": "code",
      "execution_count": null,
      "metadata": {},
      "outputs": [],
      "source": [
        "# Example1:\n",
        "def my_function(input_parameter_1, input_parameter_2):\n",
        "    product = input_parameter_1 * input_parameter_2\n",
        "    return product\n",
        "\n",
        "# Use the function\n",
        "value_returned = my_function(2, 7)\n",
        "print(value_returned)"
      ]
    },
    {
      "cell_type": "markdown",
      "metadata": {},
      "source": [
        "### Arguments and Return Values\n",
        "\n",
        "Functions can take arguments as input and can return values. Arguments provide extra information that a function needs to perform its task. Return values allow a function to process data and return a result."
      ]
    },
    {
      "cell_type": "code",
      "execution_count": null,
      "metadata": {},
      "outputs": [],
      "source": [
        "# Function with arguments and return value\n",
        "def add_numbers(num1, num2):\n",
        "    \"\"\"Return the sum of two numbers.\"\"\"  # Docstring\n",
        "    sum_result = num1 + num2\n",
        "    return sum_result\n",
        "\n",
        "# Calling the function and storing the return value\n",
        "sum_value = add_numbers(5, 3)\n",
        "print(sum_value)  # Output: 8"
      ]
    },
    {
      "cell_type": "markdown",
      "metadata": {},
      "source": [
        "### In-Class Exercise\n",
        "\n",
        "\n",
        "1.  **Simple Exercise 1**: Create a function called `multiply` that takes two arguments and returns their product.\n",
        "2.  **Simple Exercise 2**: Create a function called `is_even` that takes a number as an argument and returns `True` if the number is even, `False` otherwise.\n",
        "3.  **Challenging Exercise**: Create a function called `factorial` that takes a number as an argument and returns the factorial of that number.\n"
      ]
    },
    {
      "cell_type": "code",
      "execution_count": null,
      "metadata": {},
      "outputs": [],
      "source": [
        "# In class workspace"
      ]
    },
    {
      "cell_type": "markdown",
      "metadata": {},
      "source": [
        ":::"
      ]
    },
    {
      "cell_type": "code",
      "execution_count": null,
      "metadata": {},
      "outputs": [],
      "source": [
        "# In-class exercise workspace"
      ]
    },
    {
      "cell_type": "markdown",
      "metadata": {},
      "source": [
        "## More In-class exercises\n",
        "\n",
        "\n",
        "I will call on a random table to show me their answer via their table's monitor.\n",
        "\n",
        "Make a function that returns the square of a number. Combine the function with a loop to calculate the Sum of Squared Numbers from 1 to 100.\n",
        "\n",
        "HINT, \\*\\* is the exponent operator in python.\n",
        "\n",
        "BONUS: Make sure you're actually right by inserting a print statement in each step.\n",
        "\n",
        "BONUS-bonus: Store each stage of the results in a list using `your_list = []` and `your_list.append(thing_to_add_to_your_list)`\n"
      ]
    },
    {
      "cell_type": "code",
      "execution_count": null,
      "metadata": {},
      "outputs": [],
      "source": []
    },
    {
      "cell_type": "markdown",
      "metadata": {},
      "source": [
        "**Note**: 1. A function named `square` is defined to calculate the square of a given number using the exponent operator (`**`). 2. A variable `sum_of_squares` is initialized to 0 to keep track of the sum of squared numbers. 3. A list named `your_list` is initialized to store each stage of the results. 4. A `for` loop is used to iterate through the numbers from 1 to 100. - Inside the loop, the `square` function is called to get the squared value of the current number. - The squared value is added to `sum_of_squares` and appended to `your_list`. - A print statement is included to check each step (Bonus). 5. The final sum of squared numbers is printed, along with the list of squared values (Bonus-bonus).\n",
        ":::\n",
        "\n",
        "# Appendix and Extra materials\n",
        "\n",
        "### Pythonic Code\n",
        "\n",
        "Writing Pythonic code means following the idiomatic practices of the Python community to ensure that your code is readable, clean, and efficient. Here are some examples:\n",
        "\n",
        "-   Use list comprehensions for concise code:"
      ]
    },
    {
      "cell_type": "code",
      "execution_count": null,
      "metadata": {},
      "outputs": [],
      "source": [
        "# Example:\n",
        "squares = [x**2 for x in range(10)]"
      ]
    },
    {
      "cell_type": "markdown",
      "metadata": {},
      "source": [
        "-   Use `enumerate` if you need to iterate over the indices and values of a list:"
      ]
    },
    {
      "cell_type": "code",
      "execution_count": null,
      "metadata": {},
      "outputs": [],
      "source": [
        "# Define my_list before using it\n",
        "my_list = [1, 2, 3, 4, 5]\n",
        "\n",
        "# Now you can use my_list in your for loop\n",
        "for index, value in enumerate(my_list):\n",
        "    print(f'Index: {index}, Value: {value}')"
      ]
    },
    {
      "cell_type": "markdown",
      "metadata": {},
      "source": [
        "### Functions (we will talk about it more later)\n",
        "\n",
        "-   Functions should have a small number of arguments and do one thing. This makes them easier to test and understand.\n",
        "-   Use descriptive names for functions and parameters.\n",
        "-   Functions should return values instead of printing or modifying global variables."
      ]
    },
    {
      "cell_type": "code",
      "execution_count": null,
      "metadata": {},
      "outputs": [],
      "source": [
        "# Example:\n",
        "def calculate_area(length, width):\n",
        "    return length * width"
      ]
    },
    {
      "cell_type": "markdown",
      "metadata": {},
      "source": [
        "### Comments and Docstrings\n",
        "\n",
        "-   Comments should explain the \"why\" and \"how\" of the code, not just the \"what\".\n",
        "-   Use docstrings (triple double quotes) at the beginning of your functions, classes, and modules to describe what they do."
      ]
    },
    {
      "cell_type": "code",
      "execution_count": null,
      "metadata": {},
      "outputs": [],
      "source": [
        "# Example:\n",
        "def add_numbers(a, b):\n",
        "    \"\"\"\n",
        "    This function adds two numbers and returns the result.\n",
        "    :param a: The first number to add.\n",
        "    :param b: The second number to add.\n",
        "    :return: The sum of a and b.\n",
        "    \"\"\"\n",
        "    return a + b"
      ]
    },
    {
      "cell_type": "markdown",
      "metadata": {},
      "source": [
        "#### In-Class Exercise\n",
        "\n",
        "\n",
        "\n",
        "1.  Evaluate the following expressions and note down the output:\n",
        "    -   `5 * 3 + 2`\n",
        "    -   `8 // 5 - 3`\n",
        "    -   `5 + 4 * 3 / 2`\n",
        "    -   `5 != 3 and 4 > 3 or 2 < 1`\n",
        "2.  Given two variables `a = 10` and `b = 20`, swap their values without using a temporary variable.\n"
      ]
    },
    {
      "cell_type": "code",
      "execution_count": null,
      "metadata": {},
      "outputs": [],
      "source": [
        "# Question 1:\n",
        "# Output: 17, -3, 11.0, True\n",
        "\n",
        "# Question 2:\n",
        "a = 10\n",
        "b = 20\n",
        "a, b = b, a  # a becomes 20 and b becomes 10"
      ]
    },
    {
      "cell_type": "markdown",
      "metadata": {},
      "source": [
        ":::\n",
        "\n",
        "**Discussion point**\n",
        "\n",
        "**The array above looks identical to the nested lists we made. It IS NOT! It is a numpy array that is ridiculously fast and can scale up to massive, massive data questions. The optional reading for today (Harris et al. 2020, Nature) discusses how these arrays have formed the backbone of modern scientific computing.**"
      ]
    },
    {
      "cell_type": "code",
      "execution_count": null,
      "metadata": {},
      "outputs": [],
      "source": [
        "low = 3\n",
        "high = 8\n",
        "shape = (1000, 1000)\n",
        "\n",
        "smallish_random_array = np.random.randint(low, high, shape)\n",
        "\n",
        "print('Here\\'s a slightly larger numpy array\\n', smallish_random_array)\n"
      ]
    },
    {
      "cell_type": "markdown",
      "metadata": {},
      "source": [
        "### Immutability\n",
        "\n",
        "#### Tuples:\n",
        "\n",
        "Tuples are immutable, meaning that their content cannot be changed after creation."
      ]
    },
    {
      "cell_type": "code",
      "execution_count": null,
      "metadata": {},
      "outputs": [],
      "source": [
        "# Creating a tuple\n",
        "my_tuple = (1, 2, 3)\n",
        "print(my_tuple)  # Output: (1, 2, 3)\n",
        "\n",
        "# Attempting to modify the tuple\n",
        "# This will raise a TypeError as tuples are immutable\n",
        "\n",
        "#TRY THIS OUT! Uncomment the line below and see what happens!\n",
        "\n",
        "#my_tuple[0] = 0  # Error: 'tuple' object does not support item assignment. "
      ]
    },
    {
      "cell_type": "markdown",
      "metadata": {},
      "source": [
        "#### Sets:\n",
        "\n",
        "Actually, sets are mutable collections; however, the elements within the set must be immutable."
      ]
    },
    {
      "cell_type": "code",
      "execution_count": null,
      "metadata": {},
      "outputs": [],
      "source": [
        "# Creating a set\n",
        "my_set = {1, 2, 3}\n",
        "print(my_set)  # Output: {1, 2, 3}\n",
        "\n",
        "# Adding an element to the set\n",
        "my_set.add(4)\n",
        "print(my_set)  # Output: {1, 2, 3, 4}\n",
        "\n",
        "# Removing an element from the set\n",
        "my_set.remove(1)\n",
        "print(my_set)  # Output: {2, 3, 4}"
      ]
    },
    {
      "cell_type": "markdown",
      "metadata": {},
      "source": [
        "In the examples above, you can observe that lists and dictionaries allow their content to be changed after creation, demonstrating mutability. On the other hand, tuples do not allow their content to be altered, showcasing immutability. The sets example demonstrates the mutability of sets, but it's important to note that the elements within the set must be of immutable types.\n",
        "\n",
        "### In-Class Exercise\n",
        "\n",
        "1.  **Simple Exercise 1**: Create a list of the first 10 even numbers.\n",
        "2.  **Simple Exercise 2**: Create a dictionary where the keys are the numbers from 1 to 5 and the values are the squares of the keys.\n",
        "3.  **Challenging Exercise**: Given a list of numbers, write a program to find the sum of all positive numbers in the list.\n"
      ]
    },
    {
      "cell_type": "code",
      "execution_count": null,
      "metadata": {},
      "outputs": [],
      "source": [
        "\n"
      ]
    },
    {
      "cell_type": "markdown",
      "metadata": {},
      "source": [
        ":::"
      ]
    }
  ],
  "metadata": {
    "kernelspec": {
      "display_name": "Python 3 (ipykernel)",
      "language": "python",
      "name": "python3"
    },
    "language_info": {
      "codemirror_mode": {
        "name": "ipython",
        "version": 3
      },
      "file_extension": ".py",
      "mimetype": "text/x-python",
      "name": "python",
      "nbconvert_exporter": "python",
      "pygments_lexer": "ipython3",
      "version": "3.10.10"
    }
  },
  "nbformat": 4,
  "nbformat_minor": 4
}
