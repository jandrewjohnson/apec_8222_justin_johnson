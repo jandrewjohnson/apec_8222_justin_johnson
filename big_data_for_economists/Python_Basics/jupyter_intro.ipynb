{
 "cells": [
  {
   "attachments": {},
   "cell_type": "markdown",
   "metadata": {},
   "source": [
    "#  Jupyter Intro\n",
    "\n",
    "Jupyter notebooks are becoming dominant in replicable, open-soure science. A Jupyter notebook combines nicely-formatted conent with images, typesetting, equations, etc. with code blocks that can be directly run. Here, we're going to practice using Jupyter and use it to learn some basics of Python.\n",
    "\n",
    "\n",
    "## Jupyter has two kinds of cells \n",
    "\n",
    "1. Markdown cells (like this one)\n",
    "2. Code cells (like the next one)\n",
    "\n",
    "Above the editor window here, you can click +Code or +Markdown to add new ones.\n",
    "\n",
    "Alternatively, right-click on a cell for more options (like splitting a cell into two)\n",
    "\n",
    "Markdown cells are meant for formatted content, pictures, lecture notes etc. and follows the same notation as R-markdown.\n",
    "\n",
    "If you want to edit a markdown cell, double left-click it. To finalize the edits, click the checkmark above (or type ctrl-enter).\n",
    "\n",
    "## Code runs IN the notebook.\n",
    "\n",
    "Select the python cell below. You can edit it freely. To run it, you can click the triangle button (\"play button\") to the upper right of that cell.\n",
    "Alternatively, you can ctrl-enter."
   ]
  },
  {
   "cell_type": "code",
   "execution_count": null,
   "metadata": {
    "pycharm": {
     "name": "#%%\n"
    }
   },
   "outputs": [],
   "source": [
    "a = 5\n",
    "b = 4\n",
    "simple_summation = a + b"
   ]
  },
  {
   "cell_type": "markdown",
   "metadata": {},
   "source": [
    "You know the cell has run successfully if it gets a green check at the bottom. Also notice that there is a number now in the [ ] box at the bottom left. This indicates which cell this was run in order of all the cells run.\n",
    "\n",
    "Notice that it doesn't output anything, but note that the values are now stored in the Python Kernel (Jupyter Server) and are available to other parts of this notebook. \n",
    "\n",
    "If you want to see a variable outputted, you can just type the variable name."
   ]
  },
  {
   "cell_type": "code",
   "execution_count": null,
   "metadata": {},
   "outputs": [],
   "source": [
    "simple_summation"
   ]
  },
  {
   "cell_type": "markdown",
   "metadata": {},
   "source": [
    "You can also use the print command, but this will supress non-printed variables."
   ]
  },
  {
   "cell_type": "code",
   "execution_count": null,
   "metadata": {},
   "outputs": [],
   "source": [
    "print('Rounded: ', simple_summation)"
   ]
  },
  {
   "cell_type": "markdown",
   "metadata": {},
   "source": [
    "## Order matters\n",
    "\n",
    "The second python cell would fail if the first one wasn't run. \n",
    "\n",
    "You can run the whole program via the double-play Run icon above. "
   ]
  },
  {
   "cell_type": "markdown",
   "metadata": {},
   "source": [
    "## In-class exercise 1.1\n",
    "\n",
    "Below, add two cells to this notebook. \n",
    "\n",
    "First, create a markdown cell where you have a header and some paragraph text. To make something a header in Markdown language, just use a hashtag and a space before the title. To make it a paragraph, just separate it with a blank line in between. Finally, add a bulletted list with a few entries. To do this, just have a dash at the beginning of each new bullet.\n",
    "\n",
    "Second, create a python cell. Save a variable that is the sum of all primes between 3 and 10. Print that sum."
   ]
  }
 ],
 "metadata": {
  "anaconda-cloud": {},
  "kernelspec": {
   "display_name": "Python 3.10.6 ('8222env1')",
   "language": "python",
   "name": "python3"
  },
  "language_info": {
   "codemirror_mode": {
    "name": "ipython",
    "version": 3
   },
   "file_extension": ".py",
   "mimetype": "text/x-python",
   "name": "python",
   "nbconvert_exporter": "python",
   "pygments_lexer": "ipython3",
   "version": "3.10.10"
  },
  "vscode": {
   "interpreter": {
    "hash": "0db313e0ad7b6749a6d098fb61fddaded88cbd823278030b75fa0893942c8f77"
   }
  }
 },
 "nbformat": 4,
 "nbformat_minor": 1
}
