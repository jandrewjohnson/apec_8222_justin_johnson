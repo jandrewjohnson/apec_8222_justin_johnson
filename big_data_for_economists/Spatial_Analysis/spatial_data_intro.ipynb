{
    "cells": [
        {
            "cell_type": "markdown",
            "metadata": {},
            "source": [
                "Random python\\-related tweet\n",
                "\n",
                "\n",
                "\n",
                "![](img\\\\1213.png)\n",
                "\n",
                "\n",
                "\n",
                "# Lecture 3 (of Justin's lectures)\n",
                "\n",
                "\n",
                "\n",
                "While we're waiting, go ahead and get the lecture slides which I've just uploaded to canvas. Also pull the latest code from our repository.\n",
                "\n",
                "\n",
                "\n",
                "# Overview for today\n",
                "\n",
                "\n",
                "\n",
                "* Yesterday\\, we connected to GitHub and gave a brutally quick introduction to Python\\.\n",
                "\n",
                "* Today we're going to:\n",
                "\n",
                "  * Pickup where we left off\n",
                "\n",
                "  * Learn more about Numpy\n",
                "\n",
                "  * Learn about spatial data in Python\n",
                "\n",
                "  * Do raster\\-math \"at scale\"\n",
                "\n",
                "  * If there's time\\, start into our first Machine Learning model\n",
                "\n",
                "\n",
                "\n",
                "# Introduction to big and spatial data\n",
                "\n",
                "\n",
                "\n",
                "![](img\\\\1214.png)\n",
                "\n",
                "\n",
                "\n",
                "* Example from recent publication in Ecological Economics\n",
                "\n",
                "  * Combined both econometrics and \"big\\-data array manipulation\"\n",
                "\n",
                "\n",
                "\n",
                "![](img\\\\1215.png)\n"
            ]
        }
    ],
    "metadata": [
        {
            "kernelspec": {
                "name": "python3",
                "language": "python",
                "display_name": "Python 3 (ipykernel)"
            }
        }
    ],
    "nbformat": 4,
    "nbformat_minor": 4
}