{
    "cells": [
        {
            "cell_type": "markdown",
            "metadata": {},
            "source": [
                "# Rasters with GDAL\n",
                "\n",
                "Last class we got comfortable with using Numpy to manipulate very large arrays. These arrays could be any dimension, but we focused on 1 and 2-dimensional arrays. Today we will work with \"rasters\", which are 2-dimensional Numpy arrays.\n",
                "\n",
                "For spatial data like rasters, the amazing workhorse is GDAL. You might have heard of this in the R context from RGDAL. The open-source scientific computing stack is all interlinked. Under the hood, just like with Numpy, GDAL is implemented in very fast C-based code. The python bindings are just a way to access that code from python.\n",
                "\n",
                "Like all python libraries, we need to import GDAL before we can use it. In the code blcok below, we import it from it's namespace (osgeo). GDAL is grouped with other spatial libraries that collectively are called OSGEO, but for now we will just import GDAL. The `from` command tells us where we are importing it from. We're also going to import a few"
            ]
        },
        {
            "cell_type": "code",
            "execution_count": null,
            "metadata": {},
            "outputs": [],
            "source": [
                "from osgeo import gdal\n",
                "import numpy as np\n",
                "import os, random\n",
                "import matplotlib.pyplot as plt\n",
                "\n",
                "# We can check which version we're running by printing the \"__version__\" variable\n",
                "print(\"GDAL's version is: \" + gdal.__version__)\n",
                "print(gdal)"
            ]
        },
        {
            "cell_type": "markdown",
            "metadata": {},
            "source": [
                "The first thing we are going to do is use gdal to open a raster file. For this to work, you will need to have copied the class Data folder on our shared drive (top image) into your local directory so that it is \"Next to\" (or more technically \"in the same directory as\") your Repos directory.\n",
                "\n",
                "![](images/paste-2.png)\n",
                "\n",
                "![](images/paste-1.png)\n",
                "\n",
                "If you organize your files this way, we will now be able to easily use **relative paths** to reference files in the data directory from within code in your Repos dir. The code block below will define this.\n",
                "\n",
                "Once the data is in the rigbht folder, we will define a variable holding a string that is the path to our raster data. This is remarkably difficult (at least, as measured by how many hours I have wasted because my code pointed to the wrong place). The superior way to manage this is with RELATIVE PATHS. Here, we define the filename, the directory in relative terms, and then join them together using the os functions."
            ]
        },
        {
            "cell_type": "code",
            "execution_count": null,
            "metadata": {},
            "outputs": [],
            "source": [
                "lulc_filename = 'rwanda_lulc_2015.tif'\n",
                "\n",
                "# the ../ notation means go up one level relative to your current working directory. This gets us outside of the course\n",
                "# repository and into our Data directory\n",
                "data_directory = '../../data' \n",
                "\n",
                "# Join them together (this will work across operating systems)\n",
                "lulc_file_path = os.path.join(data_directory, lulc_filename)\n",
                "\n",
                "print('lulc_file_path', lulc_file_path)\n",
                "\n",
                "# Also check if the file exists\n",
                "print(\"Does the file exist?\", os.path.exists(lulc_file_path))"
            ]
        },
        {
            "cell_type": "markdown",
            "metadata": {},
            "source": [
                "Did it work? No, it didn't (unless you made a lucky mistake!). It's easy to get confused by relative paths, accidentally missing a level or something. In my experience (and looking at what questions we've had come up so far in class), the majority of code errors come from pointing to a \"path\" that does not exist on your harddrive.\n",
                "\n",
                "Relative filepaths are defined relative to the current working directory (CWD). One way to trouble-shoot missing paths, then, is to view the current working direcotry:"
            ]
        },
        {
            "cell_type": "code",
            "execution_count": null,
            "metadata": {},
            "outputs": [],
            "source": [
                "print(os.getcwd())"
            ]
        },
        {
            "cell_type": "markdown",
            "metadata": {},
            "source": [
                "Or to view the absolute path:"
            ]
        },
        {
            "cell_type": "code",
            "execution_count": null,
            "metadata": {},
            "outputs": [],
            "source": [
                "os.path.abspath(data_directory)"
            ]
        },
        {
            "cell_type": "markdown",
            "metadata": {},
            "source": [
                "Sometimes it can be useful to see what is in the directory you've specified (to help you figure out what's going on if it can't find the file)"
            ]
        },
        {
            "cell_type": "code",
            "execution_count": null,
            "metadata": {},
            "outputs": [],
            "source": [
                "# This will not work! Because our directory is not there!\n",
                "\n",
                "# contents = os.listdir(data_directory)\n",
                "# print(contents)"
            ]
        },
        {
            "cell_type": "markdown",
            "metadata": {},
            "source": [
                "## In-class micro-exercise\n",
                "\n",
                "In the code block below, I want you to use the os.path.join() approach from earlier to correcly make relative paths pointing to the rwanda_lulc file and use os.path.exists() to show you found it."
            ]
        },
        {
            "cell_type": "code",
            "execution_count": null,
            "metadata": {},
            "outputs": [],
            "source": [
                "# Class activity workspace\n",
                "\n",
                "# You might want to use os.path.join(...) and the variables you defined above. Hint, you will need to fix the data_directory location, but to do so, you will need to inspect your folder structure."
            ]
        },
        {
            "cell_type": "code",
            "execution_count": null,
            "metadata": {},
            "outputs": [],
            "source": [
                "# KEY\n",
                "\n",
                "# Here is the correct path. We had to go up two more levels. This might feel funny, but relative paths are AWESOME.\n",
                "data_directory = '../../../../data' \n",
                "\n",
                "# Join them together (this will work across operating systems)\n",
                "lulc_file_path = os.path.join(data_directory, lulc_filename)\n",
                "\n",
                "print('lulc_file_path', lulc_file_path)\n",
                "\n",
                "# Also check if the file exists\n",
                "print(\"Does the file exist?\", os.path.exists(lulc_file_path))"
            ]
        },
        {
            "cell_type": "markdown",
            "metadata": {},
            "source": [
                "## GDAL and opening the raster\n",
                "\n",
                "Now that we know for sure that the file is there, we can use gdal and it's Open function using the DOT notation (technically its a \"method\" not a function, but you can ignore that. If you're actually curious about object-oriented programming, a method is just a function attached to an object.)."
            ]
        },
        {
            "cell_type": "code",
            "execution_count": null,
            "metadata": {},
            "outputs": [],
            "source": [
                "lulc_dataset = gdal.Open(lulc_file_path)\n",
                "print(lulc_dataset)"
            ]
        },
        {
            "cell_type": "markdown",
            "metadata": {},
            "source": [
                "The dataset object holds information about the area and extent of the data, or the geotransform information"
            ]
        },
        {
            "cell_type": "code",
            "execution_count": null,
            "metadata": {},
            "outputs": [],
            "source": [
                "geotransform = lulc_dataset.GetGeoTransform()\n",
                "projection = lulc_dataset.GetProjection()\n",
                "\n",
                "print('GDAL dataset geotransform', geotransform)\n",
                "print('GDAL dataset projection', projection)"
            ]
        },
        {
            "cell_type": "markdown",
            "metadata": {},
            "source": [
                "IMPORTANT ANNOYING NOTE: in programming, there are different conventions for identifying a place by rows, cols vs. x, y vs. upper-left, lower-right, etc. Numpy is denoted row, col but gdal is denoted X, Y (which flips the order). Just memorize that row = Y and col = X."
            ]
        },
        {
            "cell_type": "code",
            "execution_count": null,
            "metadata": {},
            "outputs": [],
            "source": [
                "n_rows = lulc_dataset.RasterYSize\n",
                "print('Number of rows in a GDAL dataset', n_rows)\n",
                "\n",
                "n_cols = lulc_dataset.RasterXSize\n",
                "print('Number of columns in a GDAL dataset', n_cols)"
            ]
        },
        {
            "cell_type": "markdown",
            "metadata": {},
            "source": [
                "Next, get the \"band\" of the dataset. Many datasets have multiple layers (e.g. NetCDFs). Geotiffs can have multiple bands but often have just 1. For now, grab band 1"
            ]
        },
        {
            "cell_type": "code",
            "execution_count": null,
            "metadata": {},
            "outputs": [],
            "source": [
                "lulc_dataset_band = lulc_dataset.GetRasterBand(1)"
            ]
        },
        {
            "cell_type": "markdown",
            "metadata": {},
            "source": [
                "The band object has information too, like the datatype of the geotiff:"
            ]
        },
        {
            "cell_type": "code",
            "execution_count": null,
            "metadata": {},
            "outputs": [],
            "source": [
                "data_type = lulc_dataset_band.DataType\n",
                "no_data_value = lulc_dataset_band.GetNoDataValue()\n",
                "\n",
                "print('data_type', data_type)\n",
                "print('no_data_value', no_data_value)"
            ]
        },
        {
            "cell_type": "markdown",
            "metadata": {},
            "source": [
                "Finally, we can get the array from the band as a numpy array:"
            ]
        },
        {
            "cell_type": "code",
            "execution_count": null,
            "metadata": {},
            "outputs": [],
            "source": [
                "array = lulc_dataset_band.ReadAsArray()\n",
                "shape = array.shape\n",
                "\n",
                "print('Look at the array itself', array)"
            ]
        },
        {
            "cell_type": "markdown",
            "metadata": {},
            "source": [
                "## Plotting a raster\n",
                "\n",
                "We are now going to use matplotlib. It is basically like ggplot and draws its inspiration from MATLAB notation. By convention, we'll import it into the variable name plt, which is an object that lets us use matplotlib plotting notation."
            ]
        },
        {
            "cell_type": "code",
            "execution_count": null,
            "metadata": {},
            "outputs": [],
            "source": [
                "import matplotlib.pyplot as plt\n",
                "\n",
                "plt.imshow(array)\n",
                "plt.title('Land-use, land-cover')\n",
                "plt.colorbar(orientation='horizontal')\n",
                "\n",
                "# Uncomment this if you want to save it\n",
                "# plt.savefig('lulc.png', dpi=300) \n",
                "\n",
                "plt.show()"
            ]
        },
        {
            "cell_type": "markdown",
            "metadata": {},
            "source": [
                "This is super ugly for one primary reason: it has scaled the colorbar to the minimum and maximum values, which ends up coloring nearly everything close to the zero value. We're going to crop the values it shoes to not let the outliers define the colorbar range."
            ]
        },
        {
            "cell_type": "code",
            "execution_count": null,
            "metadata": {},
            "outputs": [],
            "source": [
                "import matplotlib.pyplot as plt\n",
                "\n",
                "# The second (and often better) plotting method is to use plt to create a figure and one ore more axes.\n",
                "# This is potentially confusing but is powerful. the Axes object we created (ax) is the plottable area (and there could be lots of axes)\n",
                "# The figure contains all the axes and is responsible for organizing stuff.\n",
                "\n",
                "fig = plt.figure(figsize=(8, 6))\n",
                "fig.set_dpi(300)\n",
                "\n",
                "ax = fig.add_subplot()\n",
                "\n",
                "# Set the title of this ax object\n",
                "ax.set_title('Land-use, land-cover')\n",
                "\n",
                "# Using the ax we created, we call the imshow function on our array from earlier. This create a new \"im\" object\n",
                "im = ax.imshow(array)\n",
                "\n",
                "# To fix the outlier problem from before, we use the im object to set its limits.\n",
                "im.set_clim(0, 200)\n",
                "\n",
                "# Set the cbar to spectral\n",
                "im.set_cmap('Spectral')\n",
                "\n",
                "# Get the cmap\n",
                "cmap = im.get_cmap()\n",
                "cmap.set_over('white', alpha=1.0)\n",
                "\n",
                "# Get rid of the numbers on the axes\n",
                "ax.set_xticks([])\n",
                "ax.set_yticks([])\n",
                "ax.set_xticklabels([])\n",
                "ax.set_yticklabels([])\n",
                "\n",
                "# Increase the dpi\n",
                "fig.set_dpi(300)\n",
                "\n",
                "\n",
                "# Add the colorbar to the figure. It will generate its values from the im object.\n",
                "fig.colorbar(im, orientation='horizontal', shrink=0.5)\n",
                "\n",
                "plt.show()"
            ]
        },
        {
            "cell_type": "markdown",
            "metadata": {},
            "source": [
                "## Copies versus Views in Numpy\n",
                "\n",
                "Part of how Numpy arrays are fast is the only ever load or access data when it is needed. This means that if you don't tell numpy to make a copy of something, any new variable will point to the old array. More specifically, this only creates a new pointer to the same block of memory on your computer that holds the array. If we change c_view, c will also be changed. So in the below, c_view only points to the old data in c. This is called a \"view\" of the array."
            ]
        },
        {
            "cell_type": "code",
            "execution_count": null,
            "metadata": {},
            "outputs": [],
            "source": [
                "c_view = array"
            ]
        },
        {
            "cell_type": "markdown",
            "metadata": {},
            "source": [
                "This also means that if you modify array, you will be modifying what you have in c_view.\n",
                "\n",
                "If you really need a copy in memory, you can use the numpy method copy():"
            ]
        },
        {
            "cell_type": "code",
            "execution_count": null,
            "metadata": {},
            "outputs": [],
            "source": [
                "d = array.copy()"
            ]
        },
        {
            "cell_type": "markdown",
            "metadata": {},
            "source": [
                "This gives us a NEW array in a new block of memory, so changing array will not change d,\n",
                "\n",
                "## In-class exercise 2\n",
                "\n",
                "Here you will use GDAL and numpy to do some highly-optimized raster manipulation.\n",
                "\n",
                "Using data from Earthstat, I want you to calculate the production per grid-cell of Maize, globally, at \"high\"-resolution.\n",
                "\n",
                "The two files you need are in your class data directory (obtained from google drive) named as follows.\n",
                "\n",
                "```         \n",
                "maize_HarvestedAreaHectares.tif\n",
                "maize_YieldPerHectare.tif\n",
                "```\n",
                "\n",
                "Use the os.path.join() approach from earlier to correctly make relative paths pointing to the two files.\n",
                "\n",
                "Open them up as raster using Gdal.\n",
                "\n",
                "Multiply the HarvestedAreaHectars by YieldPerHectare. This will give you the total production on the grid-cell.\n",
                "\n",
                "Use numpy to sum up the total production of Maize globally and report that to the class. IMPORTANT NOTE: You will need to use the Numpy function np.nansum(array) or you will end up getting an error about adding no-data values."
            ]
        },
        {
            "cell_type": "code",
            "execution_count": null,
            "metadata": {},
            "outputs": [],
            "source": [
                "# Exercise workspace\n",
                "\n",
                "# \n",
                "\n",
                "# Here's some starter code if you want to look at the maps\n",
                "# fig = plt.figure(figsize=(8, 6))\n",
                "# ax = fig.add_subplot()\n",
                "# ax.set_title('Maize production (tons)')\n",
                "# fig.set_dpi(300)\n",
                "# im = ax.imshow(harvested_area_array)"
            ]
        },
        {
            "cell_type": "code",
            "execution_count": null,
            "metadata": {},
            "outputs": [],
            "source": [
                "# KEY\n",
                "\n",
                "# Set the filenames\n",
                "harvested_area_filename = 'maize_HarvestedAreaHectares.tif'\n",
                "yield_filename = 'maize_YieldPerHectare.tif'\n",
                "\n",
                "# Create the paths (by joining with your base data directory)\n",
                "harvested_area_file_path = os.path.join(data_directory, harvested_area_filename)\n",
                "yield_file_path = os.path.join(data_directory, yield_filename)\n",
                "\n",
                "# Open the files\n",
                "harvested_area_dataset = gdal.Open(harvested_area_file_path)\n",
                "yield_dataset = gdal.Open(yield_file_path)\n",
                "\n",
                "# Get the bands\n",
                "harvested_area_band = harvested_area_dataset.GetRasterBand(1)\n",
                "yield_band = yield_dataset.GetRasterBand(1)\n",
                "\n",
                "# Get the no data values and print it. \n",
                "no_data_value = harvested_area_band.GetNoDataValue()\n",
                "print('no_data_value', no_data_value)\n",
                "\n",
                "# Get the arrays\n",
                "harvested_area_array = harvested_area_band.ReadAsArray()\n",
                "yield_array = yield_band.ReadAsArray()\n",
                "\n",
                "# When gdal calls ReadAsArray(), it now will do the computationally expensive step of reading it all from memory. Also note that when it comes across the value -9999.0, it will save it as Numpy's \"not a number\": np.nan. \n",
                "\n",
                "\n",
                "# Let's actually print one of the arrays\n",
                "print(harvested_area_array)\n",
                "\n",
                "# Does this make sense? Why only nans? Think about the shape of the earth and what would be in the \"corners\" of a flat map of it.\n",
                "\n",
                "# Multiply them\n",
                "production_array = harvested_area_array * yield_array\n",
                "\n",
                "# Plot the result using imshow\n",
                "fig = plt.figure(figsize=(6, 4))\n",
                "ax = fig.add_subplot()\n",
                "ax.set_title('Maize production (tons)')\n",
                "fig.set_dpi(300)\n",
                "im = ax.imshow(harvested_area_array)\n",
                "\n",
                "# Print out how many tons of maize are produced globally\n",
                "print('Total maize production globally is', np.nansum(production_array), 'tons')"
            ]
        },
        {
            "cell_type": "markdown",
            "metadata": {},
            "source": [
                "Did we get it right?\n",
                "\n",
                "![](images/paste-3.png)\n",
                "\n",
                "# Saving a raster to your harddrive\n",
                "\n",
                "Now that you've created an amazing raster of total maize production, you might want to save it to your harddrive. We will do this below."
            ]
        },
        {
            "cell_type": "code",
            "execution_count": null,
            "metadata": {},
            "outputs": [],
            "source": [
                "output_filename = 'maize_production.tif'\n",
                "output_file_path = os.path.join(data_directory, output_filename)"
            ]
        },
        {
            "cell_type": "markdown",
            "metadata": {},
            "source": [
                "Create a new file at that filename location using the attributes we used above. Notice that we flipped n_cols and n_rows from how numpy would have wanted it. Note that this is an **empty** raster. We haven't written anything to it yet, but we have defined the size and shape of it."
            ]
        },
        {
            "cell_type": "code",
            "execution_count": null,
            "metadata": {},
            "outputs": [],
            "source": [
                "# First we get some of the key output information from the input raster\n",
                "n_rows = harvested_area_dataset.RasterYSize\n",
                "n_cols = harvested_area_dataset.RasterXSize\n",
                "geotransform = harvested_area_dataset.GetGeoTransform()\n",
                "projection = harvested_area_dataset.GetProjection()\n",
                "\n",
                "data_type = harvested_area_band.DataType\n",
                "output_band = 1\n",
                "\n",
                "output_dataset = gdal.GetDriverByName('GTiff').Create(output_file_path, n_cols, n_rows, output_band, data_type)"
            ]
        },
        {
            "cell_type": "markdown",
            "metadata": {},
            "source": [
                "Next we set dataset-level information. Here we're just using what we got from the input raster, defined above."
            ]
        },
        {
            "cell_type": "code",
            "execution_count": null,
            "metadata": {},
            "outputs": [],
            "source": [
                "output_dataset.SetGeoTransform(geotransform)\n",
                "output_dataset.SetProjection(projection)"
            ]
        },
        {
            "cell_type": "markdown",
            "metadata": {},
            "source": [
                "Now get a band from our new dataset on which we'll write our array."
            ]
        },
        {
            "cell_type": "code",
            "execution_count": null,
            "metadata": {},
            "outputs": [],
            "source": [
                "output_band = output_dataset.GetRasterBand(1)"
            ]
        },
        {
            "cell_type": "markdown",
            "metadata": {},
            "source": [
                "Do the array writing"
            ]
        },
        {
            "cell_type": "code",
            "execution_count": null,
            "metadata": {},
            "outputs": [],
            "source": [
                "output_band.WriteArray(production_array)"
            ]
        },
        {
            "cell_type": "markdown",
            "metadata": {},
            "source": [
                "Set any final band-level information"
            ]
        },
        {
            "cell_type": "code",
            "execution_count": null,
            "metadata": {},
            "outputs": [],
            "source": [
                "output_band.SetNoDataValue(no_data_value)"
            ]
        },
        {
            "cell_type": "markdown",
            "metadata": {},
            "source": [
                "Finally, and very importantly, clean up after yourself. It wont actually write until the resources in memory have been released."
            ]
        },
        {
            "cell_type": "code",
            "execution_count": null,
            "metadata": {},
            "outputs": [],
            "source": [
                "production_array = None\n",
                "output_band = None\n",
                "output_dataset = None"
            ]
        },
        {
            "cell_type": "markdown",
            "metadata": {},
            "source": [
                "# Real-world example: calculating the potential yield of maize on land that is currently forests in Rwanda\n",
                "\n",
                "Now that we know how to open, manipulate, and save rasters, we can do some real-world analysis. We're going to calculate the potential yield of maize on land that is currently forests in Rwanda. This might be relevant to, for instance, a regression you would do on household data and whether individuals are likely to cut down their forests to plant maize.\n",
                "\n",
                "But let's look at these two files in QGIS. The easiest way to load them into QGIS, in my opinion, is to drag the raster file from your file explorer onto QGIS.\n",
                "\n",
                "What we see is not super pretty because we need to modify the colorbar.\n",
                "\n",
                "![](images/paste-4.png)\n",
                "\n",
                "## Double-click the layer you added to bring up its properties. Then select the Symbology tab on the left.\n",
                "\n",
                "![](images/paste-8.png)\n",
                "\n",
                "## Choose a colorbar you like. Ensure the min-max values are set.\n",
                "\n",
                "![](images/paste-9.png)\n",
                "\n",
                "## This looks a little better\n",
                "\n",
                "![](images/paste-10.png)\n",
                "\n",
                "## Now add the Rwanda LULC map you loaded earlier\n",
                "\n",
                "-   It will now show up in the Layers menu\n",
                "\n",
                "    -   Note that only the topmost checked layer will be displayed on top, covering other things.\n",
                "\n",
                "    -   Scroll to Rwanda\n",
                "\n",
                "![](images/paste-12.png)\n",
                "\n",
                "## We have several visualization problems\n",
                "\n",
                "-   First, there are very low maize yields in the area, and so they're almost the lightest color.\n",
                "\n",
                "    -   Adjust the maximium of the colorbar to \\~1000 so you can see the variation\n",
                "\n",
                "-   Second, these two rasters are at very different resolutions!\n",
                "\n",
                "![](images/paste-14.png)\n",
                "\n",
                "Any raster-math we do on them will either fail or (worse) succeed at producing nonsense. This is because the underlying numpy arrays are not representing the same part of earth at the same resolution. We will need to do two things first: **clip** and **reproject** one of the layers to match the other.\n",
                "\n",
                "## Clip\n",
                "\n",
                "-   In QGIS, Find the command Clip Raster by Extent.\n",
                "\n",
                "![](images/paste-16.png)\n",
                "\n",
                "-   This will bring up a Window to launch the tool.\n",
                "\n",
                "-   Set the Input layer as the Maize layer (this is the one we will clip to be smaller)\n",
                "\n",
                "-   Set the Clipping Extent to match the Rwanda LULC map.\n",
                "\n",
                "![](images/paste-17.png)\n",
                "\n",
                "## The Clipped map doesn't cover all of the LULC!\n",
                "\n",
                "-   If you thought data cleaning was hard on tabular data...\n",
                "\n",
                "![](images/paste-21.png)\n",
                "\n",
                "-   There are tons of ways to fix this in QGIS, but we're actually going to go back to Python to harness the power of a fun new library: Pygeoprocessing.\n",
                "\n",
                "## Reprojection\n",
                "\n",
                "-   In QGIS, Find the raster Warp command.\n",
                "\n",
                "![](images/paste-15.png)\n",
                "\n",
                "## Pygeoprocessing\n",
                "\n",
                "-   Pygeoprocessing is a python library that is built on top of GDAL. It is a little more user-friendly and has some nice features.\n",
                "-   We are going to use the align_and_resize_raster_stack() function.\n",
                "    -   But, how do we know what to input into this function?\n",
                "        -   Let's inspect it.\n",
                "        -   Put your cursor on `align_and_resize_raster_stack` in the code block below and press F-12. Your computer might not access the Function keys automatically (instead overwriting it with some media player nonsense or the like), so you might have to find the Fn button to hold at the same time (this is switchable)."
            ]
        },
        {
            "cell_type": "code",
            "execution_count": null,
            "metadata": {},
            "outputs": [],
            "source": [
                "import pygeoprocessing \n",
                "\n",
                "pygeoprocessing.align_and_resize_raster_stack"
            ]
        },
        {
            "cell_type": "markdown",
            "metadata": {},
            "source": [
                "This will bring you straight to the function that you installed via Mamba! It will have extensive documentation.\n",
                "\n",
                "![](images/paste-22.png)"
            ]
        },
        {
            "cell_type": "code",
            "execution_count": null,
            "metadata": {},
            "outputs": [],
            "source": [
                "# Redefine these, just to be safe\n",
                "yield_file_path = os.path.join(data_directory, yield_filename)\n",
                "lulc_file_path = os.path.join(data_directory, lulc_filename)\n",
                "\n",
                "# Define some new paths to store the aligned and clipped files\n",
                "yield_aligned_file_path = os.path.join(data_directory, 'yield_aligned.tif')\n",
                "lulc_aligned_file_path = os.path.join(data_directory, 'lulc_aligned.tif')\n",
                "\n",
                "# Configure the paths into lists (this helps the function generalize to MANY files)\n",
                "base_raster_path_list = [yield_file_path, lulc_file_path]\n",
                "target_raster_path_list = [yield_aligned_file_path, lulc_aligned_file_path]\n",
                "\n",
                "# Create a list as long as the above with the resampling for each respective layer. There's Much more to discuss here\n",
                "# but for now we'll just use bilinear\n",
                "resample_method_list = ['bilinear', 'bilinear']\n",
                "\n",
                "# Next decide which area all the layers will be clipped to. Intersection means it will just be the ones that overlap.\n",
                "bounding_box_mode = 'intersection'\n",
                "\n",
                "# Decide which of the base_rasters should define the resolution and projection \n",
                "# of the output data. For us, we want it to be the resolution of the LULC map, which is \n",
                "# in the second position of the list (index 1)\n",
                "raster_align_index = 1\n",
                "\n",
                "# Finally, we need to set the desired pixelsize the data will be resampled to.\n",
                "target_pixel_size = (0.000833333333333333, -0.000833333333333333)\n",
                "\n",
                "pygeoprocessing.align_and_resize_raster_stack(base_raster_path_list, target_raster_path_list, resample_method_list,\n",
                "        target_pixel_size, bounding_box_mode, \n",
                "        raster_align_index=raster_align_index)"
            ]
        },
        {
            "cell_type": "markdown",
            "metadata": {},
            "source": [
                "## When this first worked for me, I almost cried\n",
                "\n",
                "Seriously. \n",
                "\n",
                "We'll learn more about this package soon.\n",
                "\n",
                "The key element now is that each of the aligned files has exactly the same resolution and extent, which lets us do raster math on them super easily because for any for any range of row-columns, the values are representing the same place on earth.\n",
                "\n",
                "But for now, let's load them up in QGIS.\n"
            ]
        }
    ],
    "metadata": [
        {
            "kernelspec": {
                "display_name": "Python 3 (ipykernel)",
                "language": "python",
                "name": "python3"
            }
        }
    ],
    "nbformat": 4,
    "nbformat_minor": 4
}
