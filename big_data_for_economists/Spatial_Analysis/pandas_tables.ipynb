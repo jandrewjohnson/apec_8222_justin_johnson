{
    "cells": [
        {
            "cell_type": "markdown",
            "metadata": {},
            "source": [
                "# Using Pandas to load tables\n",
                "\n",
                "- Pandas is the high-powered Python library used for data analysis. \n",
                "  - It is built on top of NumPy and is capable of handling large datasets efficiently. \n",
                "  - Pandas is also used for data visualization as it can plot data in a tabular or graphical form. \n",
                "- It will be the basis of GeoPandas, which we will use to look at vector data\n",
                "  - For now, we will start with an ordinary table of data."
            ]
        },
        {
            "cell_type": "code",
            "execution_count": 9,
            "metadata": {},
            "outputs": [
                {
                    "name": "stdout",
                    "output_type": "stream",
                    "text": [
                        "                                     Domain Code                  Domain   \n",
                        "0                                             CP  Consumer Price Indices  \\\n",
                        "1                                             CP  Consumer Price Indices   \n",
                        "2                                             CP  Consumer Price Indices   \n",
                        "3                                             CP  Consumer Price Indices   \n",
                        "4                                             CP  Consumer Price Indices   \n",
                        "..                                           ...                     ...   \n",
                        "176                                           CP  Consumer Price Indices   \n",
                        "177                                           CP  Consumer Price Indices   \n",
                        "178                                           CP  Consumer Price Indices   \n",
                        "179                                           CP  Consumer Price Indices   \n",
                        "180  FAOSTAT Date: Wed Aug 17 16:12:56 CEST 2016                     NaN   \n",
                        "\n",
                        "     AreaCode AreaName  ElementCode ElementName  ItemCode   \n",
                        "0      5000.0    World       7001.0     January   23013.0  \\\n",
                        "1      5000.0    World       7001.0     January   23013.0   \n",
                        "2      5000.0    World       7001.0     January   23013.0   \n",
                        "3      5000.0    World       7001.0     January   23013.0   \n",
                        "4      5000.0    World       7001.0     January   23013.0   \n",
                        "..        ...      ...          ...         ...       ...   \n",
                        "176    5000.0    World       7012.0    December   23013.0   \n",
                        "177    5000.0    World       7012.0    December   23013.0   \n",
                        "178    5000.0    World       7012.0    December   23013.0   \n",
                        "179    5000.0    World       7012.0    December   23013.0   \n",
                        "180       NaN      NaN          NaN         NaN       NaN   \n",
                        "\n",
                        "                                       ItemName    Year  Value  Flag   \n",
                        "0    Consumer Prices, Food Indices (2000 = 100)  2000.0   99.5   NaN  \\\n",
                        "1    Consumer Prices, Food Indices (2000 = 100)  2001.0  101.5   NaN   \n",
                        "2    Consumer Prices, Food Indices (2000 = 100)  2002.0  106.5   NaN   \n",
                        "3    Consumer Prices, Food Indices (2000 = 100)  2003.0  112.5   NaN   \n",
                        "4    Consumer Prices, Food Indices (2000 = 100)  2004.0  119.2   NaN   \n",
                        "..                                          ...     ...    ...   ...   \n",
                        "176  Consumer Prices, Food Indices (2000 = 100)  2011.0  210.3   NaN   \n",
                        "177  Consumer Prices, Food Indices (2000 = 100)  2012.0  224.2   NaN   \n",
                        "178  Consumer Prices, Food Indices (2000 = 100)  2013.0  239.0   NaN   \n",
                        "179  Consumer Prices, Food Indices (2000 = 100)  2014.0  250.9   NaN   \n",
                        "180                                         NaN     NaN    NaN   NaN   \n",
                        "\n",
                        "             FlagD  \n",
                        "0    Official data  \n",
                        "1    Official data  \n",
                        "2    Official data  \n",
                        "3    Official data  \n",
                        "4    Official data  \n",
                        "..             ...  \n",
                        "176  Official data  \n",
                        "177  Official data  \n",
                        "178  Official data  \n",
                        "179  Official data  \n",
                        "180            NaN  \n",
                        "\n",
                        "[181 rows x 12 columns]\n"
                    ]
                }
            ],
            "source": [
                "# Do our imports\n",
                "import pandas\n",
                "import os\n",
                "\n",
                "# Set our file paths (YOU SHOULD HAVE DOWNLOADED THIS FROM GOOGLE DRIVE!)\n",
                "data_directory = '../../../../data'\n",
                "food_prices_filename = 'world_monthly_food_prices.csv'\n",
                "food_prices_path = os.path.join(data_directory, food_prices_filename)\n",
                "\n",
                "# Pandas provides a read_csv function that will read a CSV file into a dataframe\n",
                "food_prices = pandas.read_csv(food_prices_path)\n",
                "\n",
                "# Print the dataframe using default printing options\n",
                "print(food_prices)"
            ]
        },
        {
            "cell_type": "markdown",
            "metadata": {},
            "source": [
                "### Explore the different object attributes of the dataframe\n",
                "\n",
                "- For instance look at the column names"
            ]
        },
        {
            "cell_type": "code",
            "execution_count": 10,
            "metadata": {},
            "outputs": [
                {
                    "name": "stdout",
                    "output_type": "stream",
                    "text": [
                        "List of column names: Index(['Domain Code', 'Domain', 'AreaCode', 'AreaName', 'ElementCode',\n",
                        "       'ElementName', 'ItemCode', 'ItemName', 'Year', 'Value', 'Flag',\n",
                        "       'FlagD'],\n",
                        "      dtype='object')\n"
                    ]
                }
            ],
            "source": [
                "print('List of column names:', food_prices.columns)"
            ]
        },
        {
            "cell_type": "markdown",
            "metadata": {},
            "source": [
                "### Get a specific column\n",
                "- To get a column, use square braces with the name of the column."
            ]
        },
        {
            "cell_type": "code",
            "execution_count": 20,
            "metadata": {},
            "outputs": [
                {
                    "name": "stdout",
                    "output_type": "stream",
                    "text": [
                        "Specific column: 0       99.5\n",
                        "1      101.5\n",
                        "2      106.5\n",
                        "3      112.5\n",
                        "4      119.2\n",
                        "       ...  \n",
                        "176    210.3\n",
                        "177    224.2\n",
                        "178    239.0\n",
                        "179    250.9\n",
                        "180      NaN\n",
                        "Name: Value, Length: 181, dtype: float64\n"
                    ]
                }
            ],
            "source": [
                "food_prices_value_column = food_prices['Value']\n",
                "\n",
                "print('Specific column:', food_prices_value_column)\n"
            ]
        },
        {
            "cell_type": "code",
            "execution_count": 21,
            "metadata": {},
            "outputs": [
                {
                    "name": "stdout",
                    "output_type": "stream",
                    "text": [
                        "Specific value in that column: 132.2\n"
                    ]
                }
            ],
            "source": [
                "print('Specific value in that column:', food_prices_value_column[6])"
            ]
        },
        {
            "cell_type": "markdown",
            "metadata": {},
            "source": [
                "### Under the hood\n",
                "\n",
                "- All parts of the pandas dataframe are represented via numpy arrays\n",
                "  - If you want to access them as numpy arrays instead of Pandas dataframes or columns, you can use the .values attribute"
            ]
        },
        {
            "cell_type": "code",
            "execution_count": 22,
            "metadata": {},
            "outputs": [
                {
                    "name": "stdout",
                    "output_type": "stream",
                    "text": [
                        "[ 99.5 101.5 106.5 112.5 119.2 125.  132.2 139.7 155.5 172.  184.2 199.9\n",
                        " 213.2 227.2 240.7 100.5 101.9 107.5 113.7 119.5 126.8 133.  141.2 159.4\n",
                        " 172.6 185.9 201.6 213.7 229.7 241.8  99.9 102.3 107.2 113.9 120.  126.9\n",
                        " 132.9 141.6 161.  173.  185.6 201.9 214.9 229.2 242.3  99.7 103.1 107.4\n",
                        " 114.2 120.9 127.3 133.5 141.9 163.  173.4 186.1 202.6 215.6 230.6 243.1\n",
                        "  99.7 103.5 107.7 114.2 121.4 127.4 134.2 142.4 164.3 174.  186.1 203.2\n",
                        " 215.9 230.6 243.8  99.3 103.2 107.6 113.7 121.6 127.  134.3 143.7 165.8\n",
                        " 174.3 186.4 204.2 216.  232.1 244.6  99.2 103.3 107.7 113.5 121.7 128.\n",
                        " 134.3 145.3 167.5 175.9 188.  205.7 217.3 234.  246.4  99.6 103.9 108.5\n",
                        " 113.9 122.8 128.4 135.2 147.4 168.6 177.5 189.9 207.1 219.5 236.2 247.7\n",
                        " 100.1 104.4 109.4 114.9 123.9 129.  136.7 149.  169.7 178.8 192.1 208.5\n",
                        " 221.  237.4 249.1 100.2 105.  109.6 116.  124.5 129.8 137.6 150.4 170.1\n",
                        " 179.3 193.5 209.4 221.4 238.4 249.6 100.6 105.3 110.6 117.2 124.5 130.3\n",
                        " 138.5 151.5 169.8 180.4 195.3 209.6 222.1 239.4 249.9 100.9 105.7 111.3\n",
                        " 118.  124.6 130.5 140.1 153.2 170.  182.2 197.3 210.3 224.2 239.  250.9\n",
                        "   nan]\n"
                    ]
                }
            ],
            "source": [
                "numpy_array = food_prices_value_column.values\n",
                "print(numpy_array)"
            ]
        },
        {
            "cell_type": "markdown",
            "metadata": {},
            "source": [
                "### Default plotting\n",
                "\n",
                "- By default, pandas has a plot function\n",
                "  - Let's try it"
            ]
        },
        {
            "cell_type": "code",
            "execution_count": 13,
            "metadata": {},
            "outputs": [
                {
                    "data": {
                        "image/png": "[encoded data removed]",
                        "text/plain": [
                            "<Figure size 640x480 with 1 Axes>"
                        ]
                    },
                    "metadata": {},
                    "output_type": "display_data"
                }
            ],
            "source": [
                "import matplotlib\n",
                "from matplotlib import pyplot as plt\n",
                "plt.plot(food_prices['Value'])\n",
                "plt.show() "
            ]
        },
        {
            "cell_type": "markdown",
            "metadata": {},
            "source": [
                "### Discussion point\n",
                "\n",
                "- Why is the data like this?"
            ]
        },
        {
            "cell_type": "markdown",
            "metadata": {},
            "source": [
                "### Pandas Functionality\n",
                "\n",
                "- Let's start by importing everything afresh and setting a random seed.\n",
                "  - Setting the random seed means we will get the same random numbers each time we run the code."
            ]
        },
        {
            "cell_type": "code",
            "execution_count": 23,
            "metadata": {},
            "outputs": [],
            "source": [
                "import os\n",
                "\n",
                "import numpy as np\n",
                "import pandas as pd\n",
                "\n",
                "# Set a seed value for the random generator\n",
                "np.random.seed(48151623)\n",
                "\n"
            ]
        },
        {
            "cell_type": "markdown",
            "metadata": {},
            "source": [
                "### Create an individual column\n",
                "\n",
                "- In pandas, they are called Series\n",
                "- One very important thing to note is that in the output, we see TWO columns\n",
                "  - Pandas always includes an index for every Series or Dataframe \n",
                "  - The index is the leftmost column, and is used to identify each row"
            ]
        },
        {
            "cell_type": "code",
            "execution_count": 26,
            "metadata": {},
            "outputs": [
                {
                    "name": "stdout",
                    "output_type": "stream",
                    "text": [
                        "0    1.0\n",
                        "1    3.0\n",
                        "2    5.0\n",
                        "3    NaN\n",
                        "4    6.0\n",
                        "5    8.0\n",
                        "dtype: float64\n"
                    ]
                }
            ],
            "source": [
                "# Creating a Series by passing a list of values, letting pandas create a default integer index:\n",
                "s = pd.Series([1, 3, 5, np.nan, 6, 8])\n",
                "print(s)\n"
            ]
        },
        {
            "cell_type": "markdown",
            "metadata": {},
            "source": [
                "### There are many built-in ways of generating series\n",
                "\n",
                "- For instance, you can automatically generate a series of dates"
            ]
        },
        {
            "cell_type": "code",
            "execution_count": 25,
            "metadata": {},
            "outputs": [
                {
                    "name": "stdout",
                    "output_type": "stream",
                    "text": [
                        "DatetimeIndex(['2013-01-01', '2013-01-02', '2013-01-03', '2013-01-04',\n",
                        "               '2013-01-05', '2013-01-06'],\n",
                        "              dtype='datetime64[ns]', freq='D')\n"
                    ]
                }
            ],
            "source": [
                "# Pandas is very detailed in dealing with dates and all the quirks (leap year?) that this leads to.\n",
                "dates = pd.date_range('20130101', periods=6)\n",
                "print(dates)"
            ]
        },
        {
            "cell_type": "code",
            "execution_count": null,
            "metadata": {},
            "outputs": [],
            "source": [
                "\n",
                "# Creating a DataFrame by passing a NumPy array, with a datetime index and labeled columns:\n",
                "df = pd.DataFrame(np.random.randn(6, 4), columns=list('ABCD'))\n",
                "print('df:\\n', df)\n",
                "\n",
                "\n",
                "df2 = pd.DataFrame({'A': 1.,\n",
                "                    'B': pd.Timestamp('20130102'),\n",
                "                    'C': pd.Series(1, index=list(range(4)), dtype='float32'),\n",
                "                    'D': np.array([3] * 4, dtype='int32'),\n",
                "                    'E': pd.Categorical([\"test\", \"train\", \"test\", \"train\"]),\n",
                "                    'F': 'foo'})\n",
                "\n",
                "# df.head()\n",
                "# print(df.index)\n",
                "# print(df.columns)\n",
                "df.describe()\n",
                "\n",
                "# Also note that a dataframe is really just a numpy array dressed up with extra trappings. If you want you\n",
                "# can get back the raw array (though this might lose a lot of functionality).\n",
                "a = df.to_numpy()\n",
                "print('a\\n', a)\n",
                "\n",
                "# Sorting Values:\n",
                "\n",
                "# Also, I want to illustrate THE MOST COMMON MISTAKE people make with Pandas.\n",
                "\n",
                "# The sort_values method (a method is just a function attached to an object) returns a NEW modified dataframe.\n",
                "# Thus, in the line below, if you just printed df, it would not be sorted because we didn't use the returned value.\n",
                "df.sort_values(by='B')\n",
                "# print('Not sorted:\\n', df)\n",
                "\n",
                "# Easy way to get around this is just to assign the returned dataframe to a variable (even the input variable)\n",
                "df = df.sort_values(by='B')\n",
                "# print('Sorted with return:\\n', df)\n",
                "\n",
                "# Alternatively, if you hate returning things, there is the inplace=True command, which will modify the df ... inplace.\n",
                "df.sort_values(by='B', inplace=True)\n",
                "# print('Sorted inplace:\\n', df)\n",
                "\n",
                "## Selection/subsetting of data\n",
                "\n",
                "# Selecting a single column, which yields a Series, equivalent to df.A\n",
                "df['A']\n",
                "df.A\n",
                "\n",
                "# Selecting via [], which slices the rows.\n",
                "df[0:3] # CAN BE SLOW\n",
                "\n",
                "# Note, slicing above, which uses the\n",
                "# standard Python / Numpy expressions for selecting and setting are intuitiveits best to use\n",
                "# the optimized pandas data access methods, .at, .iat, .loc and .iloc.\n",
                "\n",
                "## Selecting by LABELS, loc and iloc\n",
                "\n",
                "r = df.loc[0] # 0-th row.\n",
                "\n",
                "# print('r', r)\n",
                "\n",
                "# Discuss difference between df['A'] and df.loc[0]\n",
                "r = df.loc[0, 'A']\n",
                "\n",
                "r = df.loc[:, 'A'] # Colon is a slice, an empty colon means ALL the values.\n",
                "\n",
                "# OPTIMIZATION:\n",
                "# for faster single point access, use:\n",
                "r = df.at[0, 'A']\n",
                "\n",
                "# SELECTING BY POSITION\n",
                "r = df.iloc[3]\n",
                "\n",
                "# Selecting with slices\n",
                "r = df.iloc[3:5, 0:2]\n",
                "\n",
                "# Slices again with an empty slice.\n",
                "r = df.iloc[1:3, :]\n",
                "\n",
                "r = df.iloc[:, 1:3]\n",
                "\n",
                "# SIMILAR OPTIMIZATION:\n",
                "r = df.iat[1, 1]\n",
                "\n",
                "# Boolean indexing\n",
                "# Using a single column’s values to select data.\n",
                "r = df[df['A'] > 0]\n",
                "\n",
                "# Make a copy (why?) and add a column\n",
                "df2 = df.copy()\n",
                "df2['E'] = ['one', 'one', 'two', 'three', 'four', 'three']\n",
                "r = df2[df2['E'].isin(['two', 'four'])]\n",
                "\n",
                "\n",
                "# Setting by assigning with a NumPy array:\n",
                "df.loc[:, 'D'] = np.array([5] * len(df))\n",
                "\n",
                "# Missing data\n",
                "\n",
                "# First we're going to create a new df by \"reindexing\" the old one, which will shuffle the data into a new\n",
                "# order according to the index provided. At the same time, we're going to add on a new, empty column\n",
                "# EE, which we set as 1 for the first two obs.\n",
                "\n",
                "df1 = df.reindex(index=[2, 0, 1, 3], columns=list(df.columns) + ['EE'])\n",
                "df1.loc[0:1, 'EE'] = 1\n",
                "# print(df1)\n",
                "\n",
                "# Apply: Similar to R. Applies a function across many cells (fast because it's vectorized)\n",
                "df.apply(np.cumsum)\n",
                "df.apply(lambda x: x.max() - x.min())\n",
                "\n",
                "# Concat\n",
                "s = pd.Series(range(0, 6))\n",
                "# print('s', s)\n",
                "\n",
                "r = pd.concat([df, s]) # Concatenate it, default is by row, which just puts it on the bottom.\n",
                "\n",
                "r = pd.concat([df, s], axis=1) # Concatenate as a new column\n",
                "\n",
                "# print(r) # Result when concatenating a series of the same size.\n",
                "\n",
                "s = pd.Series(range(0, 7))\n",
                "r = pd.concat([df, s], axis=1) # Concatenate as a new column\n",
                "\n",
                "s = pd.Series(range(0, 2))\n",
                "r = pd.concat([df, s], axis=1) # Concatenate as a new column\n",
                "\n",
                "# Join\n",
                "# SQL style merges. See the Database style joining section.\n",
                "\n",
                "left = pd.DataFrame({'key': ['foo', 'bar'], 'lval': [1, 2]})\n",
                "right = pd.DataFrame({'key': ['foo', 'bar'], 'rval': [4, 5]})\n",
                "\n",
                "# print(left)\n",
                "# print(right)\n",
                "\n",
                "df = pd.merge(left, right, on='key')\n",
                "\n",
                "# print('df:\\n', df)\n",
                "\n",
                "# Stacking\n",
                "stacked = df.stack()\n",
                "# print('stacked:\\n', stacked)\n",
                "\n",
                "\n",
                "# Pivot Tables\n",
                "df = pd.DataFrame({'A': ['one', 'one', 'two', 'three'] * 3,\n",
                "                   'B': ['A', 'B', 'C'] * 4,\n",
                "                   'C': ['foo', 'foo', 'foo', 'bar', 'bar', 'bar'] * 2,\n",
                "                   'D': np.random.randn(12),\n",
                "                   'E': np.random.randn(12)})\n",
                "\n",
                "# print(df) # SPREADSHEET VIEW\n",
                "df = pd.pivot_table(df, values='D', index=['A', 'B'], columns=['C'])\n",
                "# print(df) # Multiindexed (Pivot table) view.\n",
                "\n",
                "# NOTICE that a pivot table is just the above date but where specific things have been made into multi-level\n",
                "# indices.\n",
                "\n",
                "# PLOTTING\n",
                "ts = pd.Series(np.random.randn(1000),\n",
                "            index=pd.date_range('1/1/2000', periods=1000))\n",
                "\n",
                "ts = ts.cumsum()\n",
                "ts.plot()\n",
                "import matplotlib.pyplot as plt\n",
                "# plt.show()\n",
                "\n",
                "\n",
                "# Writing to files\n",
                "\n",
                "df.to_csv('foo.csv')\n",
                "\n",
                "# Reading files:\n",
                "\n",
                "# FIRST NOTE, here we are using relative paths (which you should almost always do too). the ../ means go up one level.\n",
                "# this path works if you organized your data into the folder structure I suggested.\n",
                "wdi_filename = \"WDI_CO2_data.csv\"\n",
                "wdi_path = os.path.join(data_directory, wdi_filename)\n",
                "df = pd.read_csv(wdi_path)\n",
                "\n",
                "print('csv read as a df\\n', df)\n",
                "\n",
                "# For reference, here's the Excel version\n",
                "# df = pd.read_excel('foo.xlsx', 'Sheet1', index_col=None, na_values=['NA'])\n",
                "\n",
                "cols = list(df.columns)\n",
                "\n",
                "# Make a subset of only 2 cols\n",
                "r = df[['Country Code', '1970 [YR1970]']]\n",
                "# print(r)\n",
                "\n",
                "r = df.loc[df['Country Code'] == 'CAN']\n",
                "# print('r', r)\n",
                "\n",
                "rr = r.loc[df['Series Name'] == 'Total greenhouse gas emissions (kt of CO2 equivalent)']\n",
                "print(rr)\n",
                "\n",
                "# Class exercise: Plot the emissions of CO2 for Canada (or whereever I don't care)."
            ]
        }
    ],
    "metadata": [
        {
            "kernelspec": {
                "display_name": "Python 3 (ipykernel)",
                "language": "python",
                "name": "python3"
            }
        }
    ],
    "nbformat": 4,
    "nbformat_minor": 4
}
