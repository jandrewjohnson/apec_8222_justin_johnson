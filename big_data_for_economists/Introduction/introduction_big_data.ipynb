{
 "cells": [
  {
   "attachments": {},
   "cell_type": "markdown",
   "metadata": {},
   "source": [
    "# Earth Economy Modeling"
   ]
  },
  {
   "attachments": {},
   "cell_type": "markdown",
   "metadata": {},
   "source": [
    "## Overview\n",
    "\n",
    "* What is Earth-Economy modeling?\n",
    "\n",
    "* How does this relate to big data\n",
    "\n",
    "* Example research topics that use big data\n",
    "\n",
    "* How does this connect to econometrics?\n",
    "\n",
    "* Big data examples from my research\n",
    "\n",
    "\n",
    "::: {.notes}\n",
    "Speaker notes go here.\n",
    ":::"
   ]
  },
  {
   "attachments": {},
   "cell_type": "markdown",
   "metadata": {},
   "source": [
    "## To succeed in using this book\n",
    "\n",
    "* Necessary to succeed: mastering software and code\\.\n",
    "\n",
    "  * Applied Economics itself is shifting in this direction\\.\n",
    "\n",
    "    * More focus on code expertise\\.\n",
    "\n",
    "    * Distinguishes us \\(in a very positive way\\) from traditional Econ programs\\.\n",
    "\n",
    "* In this book, we will use both R and Python\n",
    "\n",
    "  * R is dominant in applied econometrics \\(and thus is the basis of our department's coding approach\\)\n",
    "\n",
    "  * Other disciplines \\(including machine learning\\) use R much less\n",
    "\n",
    "  * In your career\\, you will likely have to learn new coding languages\\.\n",
    "\n",
    "    * Let's become bilingual\\!\n",
    "\n",
    "* I will lead the Python\\-specific component of the course\n",
    "\n",
    "  * Will walk you through installation\\, language basics etc\\.\\, and then use it apply machine\\-learning models to big data"
   ]
  },
  {
   "attachments": {},
   "cell_type": "markdown",
   "metadata": {},
   "source": [
    "## Your computer\n",
    "\n",
    "This course will build a modern \"scientific computing stack\" that is emerging among leading academics and open-source practitioners as an extremly powerful tool. We will work through installation of the programming language and several supporting tools\\. \n",
    "\n",
    "It is possible to use a PC\\, Mac or Linux for this course\\, though all examples will be given on a PC\\.  Becoming skilled in Big Data is partly about mastering the tools and it will be your responsibility to come to class with your computer setup in a way for you to succeed\\. We will discuss any setup steps necessary in the lecture before it is to be used\\."
   ]
  },
  {
   "attachments": {},
   "cell_type": "markdown",
   "metadata": {},
   "source": []
  },
  {
   "attachments": {},
   "cell_type": "markdown",
   "metadata": {},
   "source": [
    "## What is big data?\n",
    "\n",
    "### Big data means many things to different groups\n",
    "\n",
    "* Standard definition: Data sets that are so large or complex that traditional data processing applications are inadequate\n",
    "\n",
    "  * Streams of data \\(e\\.g\\.\\, video collected by a self\\-driving car\\)\n",
    "\n",
    "  * Massive consumer data \\(they are watching you\\)\n",
    "\n",
    "  * Remotely sensed data \\(satellites or drones taking pictures of the earth\\)\n",
    "\n",
    "  * Traditional data\\, but just really big\\.\n",
    "\n",
    "* Many related subfields also constitute \"what is\" big data\\.\n",
    "\n",
    "  * Machine learning \\(core to this course\\)\n",
    "\n",
    "  * Artificial Intelligence \\(AI\\)\n",
    "\n",
    "  * Technological advancement in computer science and hardware\n",
    "\n",
    "  * Econometrics exactly as we've done before\\, but just with bigger tables\\.\n",
    "\n"
   ]
  },
  {
   "attachments": {},
   "cell_type": "markdown",
   "metadata": {},
   "source": [
    "\n",
    "\n",
    "## Why should economists care about \"big data\"?\n",
    "\n",
    "In the very least, it can create many new sources of useful data.\n",
    "\n",
    "### Voice  Analysis\n",
    "\n",
    "![](../img/2023-01-03-13-45-48.png)\n",
    "\n",
    "\n",
    "Our input is time-series of amplitude of different pitches\n",
    "\n",
    "But to be useful data, we probably want to know what is the **MEANING**? Here there are useful methods in Natural Language Processing.\n",
    "\n",
    "\n"
   ]
  },
  {
   "attachments": {},
   "cell_type": "markdown",
   "metadata": {},
   "source": [
    "\n",
    "## Image Analysis\n",
    "\n",
    "![](../img/2023-01-03-13-46-08.png)\n",
    "\n",
    "Categorization\n",
    "\n",
    "![](../img/2023-01-03-13-46-17.png)\n",
    "\n",
    "Even image generation\n",
    "\n",
    "![](../img/2023-01-03-13-46-31.png)"
   ]
  },
  {
   "attachments": {},
   "cell_type": "markdown",
   "metadata": {},
   "source": [
    "## Sentiment Analysis\n",
    "\n",
    "![](../img/2023-01-03-13-47-06.png)"
   ]
  },
  {
   "attachments": {},
   "cell_type": "markdown",
   "metadata": {},
   "source": [
    "## Big data from remote sensing (satellites)\n",
    "\n",
    "\n",
    "* Creates terabytes of information per day\n",
    "\n",
    "  * Can assess economic factor like poverty\n",
    "\n",
    "  * Or environmental factors like freshwater availability\n",
    "\n",
    "* Data types:\n",
    "\n",
    "  * Raster data \\(matrices of spatial values\\)\n",
    "\n",
    "  * Vector data \\(link databases of survey data to georeferenced household locations\\)\n",
    "\n",
    "![](../img/2023-01-03-13-47-26.png)\n"
   ]
  },
  {
   "attachments": {},
   "cell_type": "markdown",
   "metadata": {},
   "source": [
    "\n",
    "\n",
    "\n",
    "## NLCD\n",
    "\n",
    "![](../img/2023-01-03-13-47-57.png)\n",
    "\n"
   ]
  },
  {
   "attachments": {},
   "cell_type": "markdown",
   "metadata": {},
   "source": [
    "\n",
    "\n",
    "## NLCD Zoomed\n",
    "\n",
    "![](../img/2023-01-03-13-48-14.png)\n",
    "\n"
   ]
  },
  {
   "attachments": {},
   "cell_type": "markdown",
   "metadata": {},
   "source": [
    "\n",
    "# NLCD Zoomed 2\n",
    "\n",
    "![](../img/2023-01-03-13-48-28.png)\n",
    "\n"
   ]
  },
  {
   "attachments": {},
   "cell_type": "markdown",
   "metadata": {},
   "source": [
    "\n",
    "## NLCD Zoomed 3\n",
    "\n",
    "![](../img/2023-01-03-13-49-02.png)\n",
    "\n"
   ]
  },
  {
   "attachments": {},
   "cell_type": "markdown",
   "metadata": {},
   "source": [
    "\n",
    "# How does this connect to econometrics?"
   ]
  },
  {
   "attachments": {},
   "cell_type": "markdown",
   "metadata": {},
   "source": [
    "\n",
    "## 1.) Lots of data, same old econometrics\n",
    "\n",
    "\n",
    "When  __n__  is very large \\(or both  __n__  and  __k__  are\\)\n",
    "\n",
    "![](../img/2023-01-03-13-51-08.png)\n"
   ]
  },
  {
   "attachments": {},
   "cell_type": "markdown",
   "metadata": {},
   "source": [
    "\n",
    "\n",
    "## 2.) New prediction approaches\n",
    "\n",
    "\n",
    "\n",
    "![](../img/2023-01-03-13-51-36.png)\n",
    "\n"
   ]
  },
  {
   "attachments": {},
   "cell_type": "markdown",
   "metadata": {},
   "source": [
    "\n",
    "## So we've got better models and huge data. What's the risk?\n",
    "\n",
    "\n",
    "\n",
    "* Requires rethinking what it means to be 'good' at prediction\\.\n",
    "\n",
    "  * In econometrics\\, we often measure our prediction quality using  __in\\-sample __ analysis\\. For example\\, with R2\\.\n",
    "\n",
    "  * Normally we cheer when our p\\-values are tiny\\.\n",
    "\n",
    "  * With big data\\, our p\\-values are \\(almost\\) ALWAYS tiny\\.\n",
    "\n",
    "    * Is this a good thing?\n",
    "\n",
    "* In the Python component of the course\\, we're going to introduce a new metric of prediction quality\\.\n",
    "\n",
    "  * __Out\\-of\\-sample__  prediction quality through cross\\-validation\\.\n",
    "\n",
    "  * Has been around forever of course\\, but big data greatly improves opportunities our ability to do cross\\-validation\\.\n",
    "\n"
   ]
  },
  {
   "attachments": {},
   "cell_type": "markdown",
   "metadata": {},
   "source": [
    "\n",
    "\n",
    "## Big Data improves opportunities for cross-validation\n",
    "\n",
    "\n",
    "Cross-validation splitting and folding:\n",
    "\n",
    "![](../img/2023-01-03-13-52-01.png)\n",
    "\n",
    "We'll learn this soon\\.\n",
    "\n"
   ]
  },
  {
   "attachments": {},
   "cell_type": "markdown",
   "metadata": {},
   "source": [
    "## Model complexity\n",
    "\n",
    "\n",
    "* With big data, you can make your model very, very complex\n",
    "\n",
    "  * What is the risk of this?\n",
    "\n",
    "    * Prediction error  __out of sample__  _ _ gets worse\n",
    "\n",
    "\n",
    "![](../img/2023-01-03-13-52-19.png)\n"
   ]
  },
  {
   "attachments": {},
   "cell_type": "markdown",
   "metadata": {},
   "source": [
    "## Another term: overfitting vs underfitting\n",
    "\n",
    "* Overfitting a model: making the model overly complex to that accuracy falls on the test data\\.\n",
    "\n",
    "  * We will talk about ways to methodologically hit the \"sweet spot\" of model complexity\\.\n",
    "\n",
    "![](../img/2023-01-03-13-52-49.png)\n",
    "\n"
   ]
  },
  {
   "attachments": {},
   "cell_type": "markdown",
   "metadata": {},
   "source": [
    "\n",
    "\n",
    "## Criticism of Big Data\n",
    "\n",
    "\n",
    "\n",
    "* <span style=\"color:#202122\">Predicting the world with big data means we're focused \\(obsessed?\\) by how the world was </span>  <span style=\"color:#202122\"> _in the past _ </span>  <span style=\"color:#202122\">\\(or at best\\, present\\)</span>\n",
    "\n",
    "  * <span style=\"color:#202122\">Embeds racism\\, sexism\\, etc\\.</span>\n",
    "\n",
    "  * <span style=\"color:#202122\">Enables algorithmic discrimination</span>\n",
    "\n",
    "* <span style=\"color:#202122\">Big data: not actually new \\-\\- just bigger\\.</span>\n",
    "\n"
   ]
  }
 ],
 "metadata": {
  "kernelspec": {
   "display_name": "Python 3.10.6 ('8222env1')",
   "language": "python",
   "name": "python3"
  },
  "language_info": {
   "codemirror_mode": {
    "name": "ipython",
    "version": 3
   },
   "file_extension": ".py",
   "mimetype": "text/x-python",
   "name": "python",
   "nbconvert_exporter": "python",
   "pygments_lexer": "ipython3",
   "version": "3.10.8 | packaged by conda-forge | (main, Nov 22 2022, 08:16:33) [MSC v.1929 64 bit (AMD64)]"
  },
  "vscode": {
   "interpreter": {
    "hash": "0db313e0ad7b6749a6d098fb61fddaded88cbd823278030b75fa0893942c8f77"
   }
  }
 },
 "nbformat": 4,
 "nbformat_minor": 1
}
